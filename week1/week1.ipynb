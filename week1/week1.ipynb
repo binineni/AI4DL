{
  "nbformat": 4,
  "nbformat_minor": 0,
  "metadata": {
    "colab": {
      "provenance": [],
      "authorship_tag": "ABX9TyNk2+enILVd7itRl2TMwDVD",
      "include_colab_link": true
    },
    "kernelspec": {
      "name": "python3",
      "display_name": "Python 3"
    },
    "language_info": {
      "name": "python"
    }
  },
  "cells": [
    {
      "cell_type": "markdown",
      "metadata": {
        "id": "view-in-github",
        "colab_type": "text"
      },
      "source": [
        "<a href=\"https://colab.research.google.com/github/binineni/AI4DL/blob/main/week1/week1.ipynb\" target=\"_parent\"><img src=\"https://colab.research.google.com/assets/colab-badge.svg\" alt=\"Open In Colab\"/></a>"
      ]
    },
    {
      "cell_type": "markdown",
      "source": [
        "# 1주차 실습\n",
        "---\n",
        "### Markdown 문법 작성해보기\n",
        "```\n",
        "# bold\n",
        "** bold **\n",
        "\n",
        "# Italic\n",
        "_Italic_\n",
        "\n",
        "# Header\n",
        "# Header One\n",
        "## Header two\n",
        "### Header three\n",
        "...\n",
        "\n",
        "# 링크\n",
        "[링크 (깃헙예시)](www.github.com)\n",
        "\n",
        "# 인용\n",
        ">text\n",
        "\n",
        "# 단락\n",
        "스페이스 두번\n",
        "\n",
        "```\n",
        "**bold 채 적용**\n",
        "\n",
        "_Italic 채 적용_\n",
        "\n",
        "[링크 (깃헙예시)](www.github.com)\n",
        "\n",
        ">인용문 예시\n"
      ],
      "metadata": {
        "id": "ZKFyFH8JMMXG"
      }
    },
    {
      "cell_type": "code",
      "execution_count": 1,
      "metadata": {
        "id": "2h0z-fLqJC4d",
        "colab": {
          "base_uri": "https://localhost:8080/"
        },
        "outputId": "257a73ff-d233-4ac7-ad6e-f40afd8ec431"
      },
      "outputs": [
        {
          "output_type": "stream",
          "name": "stdout",
          "text": [
            "Hello world\n"
          ]
        }
      ],
      "source": [
        "print('Hello world')"
      ]
    }
  ]
}