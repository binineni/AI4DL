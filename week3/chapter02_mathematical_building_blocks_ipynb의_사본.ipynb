{
  "cells": [
    {
      "cell_type": "markdown",
      "metadata": {
        "id": "view-in-github",
        "colab_type": "text"
      },
      "source": [
        "<a href=\"https://colab.research.google.com/github/binineni/AI4DL/blob/main/week3/chapter02_mathematical_building_blocks_ipynb%EC%9D%98_%EC%82%AC%EB%B3%B8.ipynb\" target=\"_parent\"><img src=\"https://colab.research.google.com/assets/colab-badge.svg\" alt=\"Open In Colab\"/></a>"
      ]
    },
    {
      "cell_type": "markdown",
      "metadata": {
        "id": "NQxv0AnvJ2go"
      },
      "source": [
        "This is a companion notebook for the book [Deep Learning with Python, Second Edition](https://www.manning.com/books/deep-learning-with-python-second-edition?a_aid=keras&a_bid=76564dff). For readability, it only contains runnable code blocks and section titles, and omits everything else in the book: text paragraphs, figures, and pseudocode.\n",
        "\n",
        "**If you want to be able to follow what's going on, I recommend reading the notebook side by side with your copy of the book.**\n",
        "\n",
        "This notebook was generated for TensorFlow 2.6."
      ]
    },
    {
      "cell_type": "markdown",
      "metadata": {
        "id": "BVOeu-1sJ2gr"
      },
      "source": [
        "# The mathematical building blocks of neural networks"
      ]
    },
    {
      "cell_type": "markdown",
      "metadata": {
        "id": "OtyTiOeVJ2gr"
      },
      "source": [
        "## A first look at a neural network"
      ]
    },
    {
      "cell_type": "markdown",
      "metadata": {
        "id": "o_oPJFGnJ2gs"
      },
      "source": [
        "**Loading the MNIST dataset in Keras**"
      ]
    },
    {
      "cell_type": "code",
      "execution_count": null,
      "metadata": {
        "id": "hyiKa5MmJ2gs"
      },
      "outputs": [],
      "source": [
        "from tensorflow.keras.datasets import mnist\n",
        "(train_images, train_labels), (test_images, test_labels) = mnist.load_data()"
      ]
    },
    {
      "cell_type": "code",
      "execution_count": null,
      "metadata": {
        "id": "QFFhDCxkJ2gt",
        "colab": {
          "base_uri": "https://localhost:8080/"
        },
        "outputId": "bd1920b9-2b29-4cb6-ee43-f359acea071e"
      },
      "outputs": [
        {
          "output_type": "execute_result",
          "data": {
            "text/plain": [
              "(60000, 28, 28)"
            ]
          },
          "metadata": {},
          "execution_count": 58
        }
      ],
      "source": [
        "train_images.shape"
      ]
    },
    {
      "cell_type": "code",
      "execution_count": null,
      "metadata": {
        "id": "Dxpf3x-QJ2gu",
        "colab": {
          "base_uri": "https://localhost:8080/"
        },
        "outputId": "cb151419-f900-486e-c122-6091b6305bb6"
      },
      "outputs": [
        {
          "output_type": "execute_result",
          "data": {
            "text/plain": [
              "60000"
            ]
          },
          "metadata": {},
          "execution_count": 59
        }
      ],
      "source": [
        "len(train_labels)"
      ]
    },
    {
      "cell_type": "code",
      "execution_count": null,
      "metadata": {
        "id": "GJPNnWK4J2gu",
        "colab": {
          "base_uri": "https://localhost:8080/"
        },
        "outputId": "196709cd-e065-4647-c36f-6b728bc2f3fb"
      },
      "outputs": [
        {
          "output_type": "execute_result",
          "data": {
            "text/plain": [
              "array([5, 0, 4, ..., 5, 6, 8], dtype=uint8)"
            ]
          },
          "metadata": {},
          "execution_count": 60
        }
      ],
      "source": [
        "train_labels"
      ]
    },
    {
      "cell_type": "code",
      "execution_count": null,
      "metadata": {
        "id": "mShLRMGNJ2gv",
        "colab": {
          "base_uri": "https://localhost:8080/"
        },
        "outputId": "0f1a893e-78cc-4076-c8d2-0c10166a33ee"
      },
      "outputs": [
        {
          "output_type": "execute_result",
          "data": {
            "text/plain": [
              "(10000, 28, 28)"
            ]
          },
          "metadata": {},
          "execution_count": 61
        }
      ],
      "source": [
        "test_images.shape"
      ]
    },
    {
      "cell_type": "code",
      "execution_count": null,
      "metadata": {
        "id": "X5jt_a9aJ2gv",
        "colab": {
          "base_uri": "https://localhost:8080/"
        },
        "outputId": "277688c5-7188-4260-bba7-be0a2e4fe875"
      },
      "outputs": [
        {
          "output_type": "execute_result",
          "data": {
            "text/plain": [
              "10000"
            ]
          },
          "metadata": {},
          "execution_count": 62
        }
      ],
      "source": [
        "len(test_labels)"
      ]
    },
    {
      "cell_type": "code",
      "execution_count": null,
      "metadata": {
        "id": "iF59ZnxCJ2gv",
        "colab": {
          "base_uri": "https://localhost:8080/"
        },
        "outputId": "7001f6cf-f676-4288-b4e5-93724f47efff"
      },
      "outputs": [
        {
          "output_type": "execute_result",
          "data": {
            "text/plain": [
              "array([7, 2, 1, ..., 4, 5, 6], dtype=uint8)"
            ]
          },
          "metadata": {},
          "execution_count": 63
        }
      ],
      "source": [
        "test_labels"
      ]
    },
    {
      "cell_type": "markdown",
      "metadata": {
        "id": "Nl5LU6rbJ2gv"
      },
      "source": [
        "**The network architecture**"
      ]
    },
    {
      "cell_type": "code",
      "execution_count": null,
      "metadata": {
        "id": "Gi52_7UYJ2gw"
      },
      "outputs": [],
      "source": [
        "from tensorflow import keras\n",
        "from tensorflow.keras import layers\n",
        "model = keras.Sequential([\n",
        "    layers.Dense(512, activation=\"relu\"),\n",
        "    layers.Dense(10, activation=\"softmax\")\n",
        "])"
      ]
    },
    {
      "cell_type": "markdown",
      "metadata": {
        "id": "gRzh3NCRJ2gw"
      },
      "source": [
        "**The compilation step**"
      ]
    },
    {
      "cell_type": "code",
      "execution_count": null,
      "metadata": {
        "id": "1eqCe_iNJ2gw"
      },
      "outputs": [],
      "source": [
        "model.compile(optimizer=\"rmsprop\",\n",
        "              loss=\"sparse_categorical_crossentropy\",\n",
        "              metrics=[\"accuracy\"])"
      ]
    },
    {
      "cell_type": "markdown",
      "metadata": {
        "id": "bcKA-wt-J2gw"
      },
      "source": [
        "**Preparing the image data**"
      ]
    },
    {
      "cell_type": "code",
      "execution_count": null,
      "metadata": {
        "id": "akobN9asJ2gw"
      },
      "outputs": [],
      "source": [
        "train_images = train_images.reshape((60000, 28 * 28))\n",
        "train_images = train_images.astype(\"float32\") / 255\n",
        "test_images = test_images.reshape((10000, 28 * 28))\n",
        "test_images = test_images.astype(\"float32\") / 255"
      ]
    },
    {
      "cell_type": "code",
      "source": [
        "train_images[0]"
      ],
      "metadata": {
        "colab": {
          "base_uri": "https://localhost:8080/"
        },
        "id": "h3vO9R19Kn_9",
        "outputId": "a4a8f77b-600d-4824-e041-084328d62fb5"
      },
      "execution_count": null,
      "outputs": [
        {
          "output_type": "execute_result",
          "data": {
            "text/plain": [
              "array([0.0000000e+00, 0.0000000e+00, 0.0000000e+00, 0.0000000e+00,\n",
              "       0.0000000e+00, 0.0000000e+00, 0.0000000e+00, 0.0000000e+00,\n",
              "       0.0000000e+00, 0.0000000e+00, 0.0000000e+00, 0.0000000e+00,\n",
              "       0.0000000e+00, 0.0000000e+00, 0.0000000e+00, 0.0000000e+00,\n",
              "       0.0000000e+00, 0.0000000e+00, 0.0000000e+00, 0.0000000e+00,\n",
              "       0.0000000e+00, 0.0000000e+00, 0.0000000e+00, 0.0000000e+00,\n",
              "       0.0000000e+00, 0.0000000e+00, 0.0000000e+00, 0.0000000e+00,\n",
              "       0.0000000e+00, 0.0000000e+00, 0.0000000e+00, 0.0000000e+00,\n",
              "       0.0000000e+00, 0.0000000e+00, 0.0000000e+00, 0.0000000e+00,\n",
              "       0.0000000e+00, 0.0000000e+00, 0.0000000e+00, 0.0000000e+00,\n",
              "       0.0000000e+00, 0.0000000e+00, 0.0000000e+00, 0.0000000e+00,\n",
              "       0.0000000e+00, 0.0000000e+00, 0.0000000e+00, 0.0000000e+00,\n",
              "       0.0000000e+00, 0.0000000e+00, 0.0000000e+00, 0.0000000e+00,\n",
              "       0.0000000e+00, 0.0000000e+00, 0.0000000e+00, 0.0000000e+00,\n",
              "       0.0000000e+00, 0.0000000e+00, 0.0000000e+00, 0.0000000e+00,\n",
              "       0.0000000e+00, 0.0000000e+00, 0.0000000e+00, 0.0000000e+00,\n",
              "       0.0000000e+00, 0.0000000e+00, 0.0000000e+00, 0.0000000e+00,\n",
              "       0.0000000e+00, 0.0000000e+00, 0.0000000e+00, 0.0000000e+00,\n",
              "       0.0000000e+00, 0.0000000e+00, 0.0000000e+00, 0.0000000e+00,\n",
              "       0.0000000e+00, 0.0000000e+00, 0.0000000e+00, 0.0000000e+00,\n",
              "       0.0000000e+00, 0.0000000e+00, 0.0000000e+00, 0.0000000e+00,\n",
              "       0.0000000e+00, 0.0000000e+00, 0.0000000e+00, 0.0000000e+00,\n",
              "       0.0000000e+00, 0.0000000e+00, 0.0000000e+00, 0.0000000e+00,\n",
              "       0.0000000e+00, 0.0000000e+00, 0.0000000e+00, 0.0000000e+00,\n",
              "       0.0000000e+00, 0.0000000e+00, 0.0000000e+00, 0.0000000e+00,\n",
              "       0.0000000e+00, 0.0000000e+00, 0.0000000e+00, 0.0000000e+00,\n",
              "       0.0000000e+00, 0.0000000e+00, 0.0000000e+00, 0.0000000e+00,\n",
              "       0.0000000e+00, 0.0000000e+00, 0.0000000e+00, 0.0000000e+00,\n",
              "       0.0000000e+00, 0.0000000e+00, 0.0000000e+00, 0.0000000e+00,\n",
              "       0.0000000e+00, 0.0000000e+00, 0.0000000e+00, 0.0000000e+00,\n",
              "       0.0000000e+00, 0.0000000e+00, 0.0000000e+00, 0.0000000e+00,\n",
              "       0.0000000e+00, 0.0000000e+00, 0.0000000e+00, 0.0000000e+00,\n",
              "       0.0000000e+00, 0.0000000e+00, 0.0000000e+00, 0.0000000e+00,\n",
              "       0.0000000e+00, 0.0000000e+00, 0.0000000e+00, 0.0000000e+00,\n",
              "       0.0000000e+00, 0.0000000e+00, 0.0000000e+00, 0.0000000e+00,\n",
              "       0.0000000e+00, 0.0000000e+00, 0.0000000e+00, 0.0000000e+00,\n",
              "       0.0000000e+00, 0.0000000e+00, 0.0000000e+00, 0.0000000e+00,\n",
              "       0.0000000e+00, 0.0000000e+00, 0.0000000e+00, 0.0000000e+00,\n",
              "       4.6136101e-05, 2.7681663e-04, 2.7681663e-04, 2.7681663e-04,\n",
              "       1.9377163e-03, 2.0915035e-03, 2.6912726e-03, 3.9984621e-04,\n",
              "       2.5528644e-03, 3.9215689e-03, 3.7985391e-03, 1.9530950e-03,\n",
              "       0.0000000e+00, 0.0000000e+00, 0.0000000e+00, 0.0000000e+00,\n",
              "       0.0000000e+00, 0.0000000e+00, 0.0000000e+00, 0.0000000e+00,\n",
              "       0.0000000e+00, 0.0000000e+00, 0.0000000e+00, 0.0000000e+00,\n",
              "       4.6136102e-04, 5.5363326e-04, 1.4455979e-03, 2.3683200e-03,\n",
              "       2.6143792e-03, 3.8908112e-03, 3.8908112e-03, 3.8908112e-03,\n",
              "       3.8908112e-03, 3.8908112e-03, 3.4602077e-03, 2.6451366e-03,\n",
              "       3.8908112e-03, 3.7216456e-03, 2.9988466e-03, 9.8423695e-04,\n",
              "       0.0000000e+00, 0.0000000e+00, 0.0000000e+00, 0.0000000e+00,\n",
              "       0.0000000e+00, 0.0000000e+00, 0.0000000e+00, 0.0000000e+00,\n",
              "       0.0000000e+00, 0.0000000e+00, 0.0000000e+00, 7.5355632e-04,\n",
              "       3.6601308e-03, 3.8908112e-03, 3.8908112e-03, 3.8908112e-03,\n",
              "       3.8908112e-03, 3.8908112e-03, 3.8908112e-03, 3.8908112e-03,\n",
              "       3.8908112e-03, 3.8600538e-03, 1.4302192e-03, 1.2610535e-03,\n",
              "       1.2610535e-03, 8.6120726e-04, 5.9976935e-04, 0.0000000e+00,\n",
              "       0.0000000e+00, 0.0000000e+00, 0.0000000e+00, 0.0000000e+00,\n",
              "       0.0000000e+00, 0.0000000e+00, 0.0000000e+00, 0.0000000e+00,\n",
              "       0.0000000e+00, 0.0000000e+00, 0.0000000e+00, 2.7681663e-04,\n",
              "       3.3679355e-03, 3.8908112e-03, 3.8908112e-03, 3.8908112e-03,\n",
              "       3.8908112e-03, 3.8908112e-03, 3.0449827e-03, 2.7989235e-03,\n",
              "       3.7985391e-03, 3.7062669e-03, 0.0000000e+00, 0.0000000e+00,\n",
              "       0.0000000e+00, 0.0000000e+00, 0.0000000e+00, 0.0000000e+00,\n",
              "       0.0000000e+00, 0.0000000e+00, 0.0000000e+00, 0.0000000e+00,\n",
              "       0.0000000e+00, 0.0000000e+00, 0.0000000e+00, 0.0000000e+00,\n",
              "       0.0000000e+00, 0.0000000e+00, 0.0000000e+00, 0.0000000e+00,\n",
              "       1.2302961e-03, 2.3990774e-03, 1.6455210e-03, 3.8908112e-03,\n",
              "       3.8908112e-03, 3.1526336e-03, 1.6916571e-04, 0.0000000e+00,\n",
              "       6.6128414e-04, 2.3683200e-03, 0.0000000e+00, 0.0000000e+00,\n",
              "       0.0000000e+00, 0.0000000e+00, 0.0000000e+00, 0.0000000e+00,\n",
              "       0.0000000e+00, 0.0000000e+00, 0.0000000e+00, 0.0000000e+00,\n",
              "       0.0000000e+00, 0.0000000e+00, 0.0000000e+00, 0.0000000e+00,\n",
              "       0.0000000e+00, 0.0000000e+00, 0.0000000e+00, 0.0000000e+00,\n",
              "       0.0000000e+00, 2.1530181e-04, 1.5378702e-05, 2.3683200e-03,\n",
              "       3.8908112e-03, 1.3840831e-03, 0.0000000e+00, 0.0000000e+00,\n",
              "       0.0000000e+00, 0.0000000e+00, 0.0000000e+00, 0.0000000e+00,\n",
              "       0.0000000e+00, 0.0000000e+00, 0.0000000e+00, 0.0000000e+00,\n",
              "       0.0000000e+00, 0.0000000e+00, 0.0000000e+00, 0.0000000e+00,\n",
              "       0.0000000e+00, 0.0000000e+00, 0.0000000e+00, 0.0000000e+00,\n",
              "       0.0000000e+00, 0.0000000e+00, 0.0000000e+00, 0.0000000e+00,\n",
              "       0.0000000e+00, 0.0000000e+00, 0.0000000e+00, 2.1376396e-03,\n",
              "       3.8908112e-03, 2.9219531e-03, 3.0757405e-05, 0.0000000e+00,\n",
              "       0.0000000e+00, 0.0000000e+00, 0.0000000e+00, 0.0000000e+00,\n",
              "       0.0000000e+00, 0.0000000e+00, 0.0000000e+00, 0.0000000e+00,\n",
              "       0.0000000e+00, 0.0000000e+00, 0.0000000e+00, 0.0000000e+00,\n",
              "       0.0000000e+00, 0.0000000e+00, 0.0000000e+00, 0.0000000e+00,\n",
              "       0.0000000e+00, 0.0000000e+00, 0.0000000e+00, 0.0000000e+00,\n",
              "       0.0000000e+00, 0.0000000e+00, 0.0000000e+00, 1.6916571e-04,\n",
              "       2.9219531e-03, 3.8908112e-03, 1.0765091e-03, 0.0000000e+00,\n",
              "       0.0000000e+00, 0.0000000e+00, 0.0000000e+00, 0.0000000e+00,\n",
              "       0.0000000e+00, 0.0000000e+00, 0.0000000e+00, 0.0000000e+00,\n",
              "       0.0000000e+00, 0.0000000e+00, 0.0000000e+00, 0.0000000e+00,\n",
              "       0.0000000e+00, 0.0000000e+00, 0.0000000e+00, 0.0000000e+00,\n",
              "       0.0000000e+00, 0.0000000e+00, 0.0000000e+00, 0.0000000e+00,\n",
              "       0.0000000e+00, 0.0000000e+00, 0.0000000e+00, 0.0000000e+00,\n",
              "       5.3825456e-04, 3.7062669e-03, 3.4602077e-03, 2.4605922e-03,\n",
              "       1.6608997e-03, 1.5378702e-05, 0.0000000e+00, 0.0000000e+00,\n",
              "       0.0000000e+00, 0.0000000e+00, 0.0000000e+00, 0.0000000e+00,\n",
              "       0.0000000e+00, 0.0000000e+00, 0.0000000e+00, 0.0000000e+00,\n",
              "       0.0000000e+00, 0.0000000e+00, 0.0000000e+00, 0.0000000e+00,\n",
              "       0.0000000e+00, 0.0000000e+00, 0.0000000e+00, 0.0000000e+00,\n",
              "       0.0000000e+00, 0.0000000e+00, 0.0000000e+00, 0.0000000e+00,\n",
              "       0.0000000e+00, 1.2456748e-03, 3.6908882e-03, 3.8908112e-03,\n",
              "       3.8908112e-03, 1.8300654e-03, 3.8446751e-04, 0.0000000e+00,\n",
              "       0.0000000e+00, 0.0000000e+00, 0.0000000e+00, 0.0000000e+00,\n",
              "       0.0000000e+00, 0.0000000e+00, 0.0000000e+00, 0.0000000e+00,\n",
              "       0.0000000e+00, 0.0000000e+00, 0.0000000e+00, 0.0000000e+00,\n",
              "       0.0000000e+00, 0.0000000e+00, 0.0000000e+00, 0.0000000e+00,\n",
              "       0.0000000e+00, 0.0000000e+00, 0.0000000e+00, 0.0000000e+00,\n",
              "       0.0000000e+00, 0.0000000e+00, 6.9204153e-04, 2.8604383e-03,\n",
              "       3.8908112e-03, 3.8908112e-03, 2.3068052e-03, 4.1522493e-04,\n",
              "       0.0000000e+00, 0.0000000e+00, 0.0000000e+00, 0.0000000e+00,\n",
              "       0.0000000e+00, 0.0000000e+00, 0.0000000e+00, 0.0000000e+00,\n",
              "       0.0000000e+00, 0.0000000e+00, 0.0000000e+00, 0.0000000e+00,\n",
              "       0.0000000e+00, 0.0000000e+00, 0.0000000e+00, 0.0000000e+00,\n",
              "       0.0000000e+00, 0.0000000e+00, 0.0000000e+00, 0.0000000e+00,\n",
              "       0.0000000e+00, 0.0000000e+00, 0.0000000e+00, 2.4605924e-04,\n",
              "       1.4302192e-03, 3.8754325e-03, 3.8908112e-03, 2.8758170e-03,\n",
              "       0.0000000e+00, 0.0000000e+00, 0.0000000e+00, 0.0000000e+00,\n",
              "       0.0000000e+00, 0.0000000e+00, 0.0000000e+00, 0.0000000e+00,\n",
              "       0.0000000e+00, 0.0000000e+00, 0.0000000e+00, 0.0000000e+00,\n",
              "       0.0000000e+00, 0.0000000e+00, 0.0000000e+00, 0.0000000e+00,\n",
              "       0.0000000e+00, 0.0000000e+00, 0.0000000e+00, 0.0000000e+00,\n",
              "       0.0000000e+00, 0.0000000e+00, 0.0000000e+00, 0.0000000e+00,\n",
              "       0.0000000e+00, 3.8292964e-03, 3.8908112e-03, 3.8292964e-03,\n",
              "       9.8423695e-04, 0.0000000e+00, 0.0000000e+00, 0.0000000e+00,\n",
              "       0.0000000e+00, 0.0000000e+00, 0.0000000e+00, 0.0000000e+00,\n",
              "       0.0000000e+00, 0.0000000e+00, 0.0000000e+00, 0.0000000e+00,\n",
              "       0.0000000e+00, 0.0000000e+00, 0.0000000e+00, 0.0000000e+00,\n",
              "       0.0000000e+00, 0.0000000e+00, 0.0000000e+00, 0.0000000e+00,\n",
              "       0.0000000e+00, 0.0000000e+00, 7.0742023e-04, 1.9992313e-03,\n",
              "       2.8143022e-03, 3.8908112e-03, 3.8908112e-03, 3.1833909e-03,\n",
              "       3.0757405e-05, 0.0000000e+00, 0.0000000e+00, 0.0000000e+00,\n",
              "       0.0000000e+00, 0.0000000e+00, 0.0000000e+00, 0.0000000e+00,\n",
              "       0.0000000e+00, 0.0000000e+00, 0.0000000e+00, 0.0000000e+00,\n",
              "       0.0000000e+00, 0.0000000e+00, 0.0000000e+00, 0.0000000e+00,\n",
              "       0.0000000e+00, 0.0000000e+00, 0.0000000e+00, 0.0000000e+00,\n",
              "       5.9976935e-04, 2.2760478e-03, 3.5217225e-03, 3.8908112e-03,\n",
              "       3.8908112e-03, 3.8908112e-03, 3.8446751e-03, 2.7989235e-03,\n",
              "       0.0000000e+00, 0.0000000e+00, 0.0000000e+00, 0.0000000e+00,\n",
              "       0.0000000e+00, 0.0000000e+00, 0.0000000e+00, 0.0000000e+00,\n",
              "       0.0000000e+00, 0.0000000e+00, 0.0000000e+00, 0.0000000e+00,\n",
              "       0.0000000e+00, 0.0000000e+00, 0.0000000e+00, 0.0000000e+00,\n",
              "       0.0000000e+00, 0.0000000e+00, 3.6908881e-04, 1.7531719e-03,\n",
              "       3.3986929e-03, 3.8908112e-03, 3.8908112e-03, 3.8908112e-03,\n",
              "       3.8908112e-03, 3.0911188e-03, 1.1995387e-03, 0.0000000e+00,\n",
              "       0.0000000e+00, 0.0000000e+00, 0.0000000e+00, 0.0000000e+00,\n",
              "       0.0000000e+00, 0.0000000e+00, 0.0000000e+00, 0.0000000e+00,\n",
              "       0.0000000e+00, 0.0000000e+00, 0.0000000e+00, 0.0000000e+00,\n",
              "       0.0000000e+00, 0.0000000e+00, 0.0000000e+00, 0.0000000e+00,\n",
              "       3.5371011e-04, 1.0149943e-03, 3.2756634e-03, 3.8908112e-03,\n",
              "       3.8908112e-03, 3.8908112e-03, 3.8908112e-03, 3.0449827e-03,\n",
              "       1.2456748e-03, 3.0757405e-05, 0.0000000e+00, 0.0000000e+00,\n",
              "       0.0000000e+00, 0.0000000e+00, 0.0000000e+00, 0.0000000e+00,\n",
              "       0.0000000e+00, 0.0000000e+00, 0.0000000e+00, 0.0000000e+00,\n",
              "       0.0000000e+00, 0.0000000e+00, 0.0000000e+00, 0.0000000e+00,\n",
              "       0.0000000e+00, 0.0000000e+00, 2.7681663e-04, 2.6297579e-03,\n",
              "       3.3679355e-03, 3.8908112e-03, 3.8908112e-03, 3.8908112e-03,\n",
              "       3.8908112e-03, 2.9988466e-03, 1.2302961e-03, 1.3840832e-04,\n",
              "       0.0000000e+00, 0.0000000e+00, 0.0000000e+00, 0.0000000e+00,\n",
              "       0.0000000e+00, 0.0000000e+00, 0.0000000e+00, 0.0000000e+00,\n",
              "       0.0000000e+00, 0.0000000e+00, 0.0000000e+00, 0.0000000e+00,\n",
              "       0.0000000e+00, 0.0000000e+00, 0.0000000e+00, 0.0000000e+00,\n",
              "       8.4582856e-04, 2.6451366e-03, 3.4755864e-03, 3.8908112e-03,\n",
              "       3.8908112e-03, 3.8908112e-03, 3.8908112e-03, 3.7524030e-03,\n",
              "       2.0453674e-03, 1.6916571e-04, 0.0000000e+00, 0.0000000e+00,\n",
              "       0.0000000e+00, 0.0000000e+00, 0.0000000e+00, 0.0000000e+00,\n",
              "       0.0000000e+00, 0.0000000e+00, 0.0000000e+00, 0.0000000e+00,\n",
              "       0.0000000e+00, 0.0000000e+00, 0.0000000e+00, 0.0000000e+00,\n",
              "       0.0000000e+00, 0.0000000e+00, 0.0000000e+00, 0.0000000e+00,\n",
              "       2.0915035e-03, 3.8908112e-03, 3.8908112e-03, 3.8908112e-03,\n",
              "       3.2602844e-03, 2.0761248e-03, 2.0299887e-03, 2.4605924e-04,\n",
              "       0.0000000e+00, 0.0000000e+00, 0.0000000e+00, 0.0000000e+00,\n",
              "       0.0000000e+00, 0.0000000e+00, 0.0000000e+00, 0.0000000e+00,\n",
              "       0.0000000e+00, 0.0000000e+00, 0.0000000e+00, 0.0000000e+00,\n",
              "       0.0000000e+00, 0.0000000e+00, 0.0000000e+00, 0.0000000e+00,\n",
              "       0.0000000e+00, 0.0000000e+00, 0.0000000e+00, 0.0000000e+00,\n",
              "       0.0000000e+00, 0.0000000e+00, 0.0000000e+00, 0.0000000e+00,\n",
              "       0.0000000e+00, 0.0000000e+00, 0.0000000e+00, 0.0000000e+00,\n",
              "       0.0000000e+00, 0.0000000e+00, 0.0000000e+00, 0.0000000e+00,\n",
              "       0.0000000e+00, 0.0000000e+00, 0.0000000e+00, 0.0000000e+00,\n",
              "       0.0000000e+00, 0.0000000e+00, 0.0000000e+00, 0.0000000e+00,\n",
              "       0.0000000e+00, 0.0000000e+00, 0.0000000e+00, 0.0000000e+00,\n",
              "       0.0000000e+00, 0.0000000e+00, 0.0000000e+00, 0.0000000e+00,\n",
              "       0.0000000e+00, 0.0000000e+00, 0.0000000e+00, 0.0000000e+00,\n",
              "       0.0000000e+00, 0.0000000e+00, 0.0000000e+00, 0.0000000e+00,\n",
              "       0.0000000e+00, 0.0000000e+00, 0.0000000e+00, 0.0000000e+00,\n",
              "       0.0000000e+00, 0.0000000e+00, 0.0000000e+00, 0.0000000e+00,\n",
              "       0.0000000e+00, 0.0000000e+00, 0.0000000e+00, 0.0000000e+00,\n",
              "       0.0000000e+00, 0.0000000e+00, 0.0000000e+00, 0.0000000e+00,\n",
              "       0.0000000e+00, 0.0000000e+00, 0.0000000e+00, 0.0000000e+00,\n",
              "       0.0000000e+00, 0.0000000e+00, 0.0000000e+00, 0.0000000e+00,\n",
              "       0.0000000e+00, 0.0000000e+00, 0.0000000e+00, 0.0000000e+00,\n",
              "       0.0000000e+00, 0.0000000e+00, 0.0000000e+00, 0.0000000e+00,\n",
              "       0.0000000e+00, 0.0000000e+00, 0.0000000e+00, 0.0000000e+00,\n",
              "       0.0000000e+00, 0.0000000e+00, 0.0000000e+00, 0.0000000e+00,\n",
              "       0.0000000e+00, 0.0000000e+00, 0.0000000e+00, 0.0000000e+00],\n",
              "      dtype=float32)"
            ]
          },
          "metadata": {},
          "execution_count": 47
        }
      ]
    },
    {
      "cell_type": "markdown",
      "metadata": {
        "id": "rFrp55cMJ2gx"
      },
      "source": [
        "**\"Fitting\" the model**"
      ]
    },
    {
      "cell_type": "code",
      "execution_count": null,
      "metadata": {
        "id": "xjC5kecBJ2gx",
        "colab": {
          "base_uri": "https://localhost:8080/"
        },
        "outputId": "9a200ebb-f9ad-4b43-f875-c8b86bdc196a"
      },
      "outputs": [
        {
          "output_type": "stream",
          "name": "stdout",
          "text": [
            "Epoch 1/5\n",
            "469/469 [==============================] - 1s 3ms/step - loss: 1.9472 - accuracy: 0.5904\n",
            "Epoch 2/5\n",
            "469/469 [==============================] - 1s 3ms/step - loss: 1.1287 - accuracy: 0.7873\n",
            "Epoch 3/5\n",
            "469/469 [==============================] - 1s 3ms/step - loss: 0.7176 - accuracy: 0.8377\n",
            "Epoch 4/5\n",
            "469/469 [==============================] - 1s 3ms/step - loss: 0.5589 - accuracy: 0.8610\n",
            "Epoch 5/5\n",
            "469/469 [==============================] - 1s 3ms/step - loss: 0.4810 - accuracy: 0.8729\n"
          ]
        },
        {
          "output_type": "execute_result",
          "data": {
            "text/plain": [
              "<keras.src.callbacks.History at 0x7cab2b85b100>"
            ]
          },
          "metadata": {},
          "execution_count": 48
        }
      ],
      "source": [
        "model.fit(train_images, train_labels, epochs=5, batch_size=128)"
      ]
    },
    {
      "cell_type": "markdown",
      "metadata": {
        "id": "vArwqA8rJ2gx"
      },
      "source": [
        "**Using the model to make predictions**"
      ]
    },
    {
      "cell_type": "code",
      "execution_count": null,
      "metadata": {
        "id": "d9Sw5TcsJ2gx",
        "colab": {
          "base_uri": "https://localhost:8080/"
        },
        "outputId": "4ba767fb-cffa-488f-b5df-144b28b632f0"
      },
      "outputs": [
        {
          "output_type": "stream",
          "name": "stdout",
          "text": [
            "1/1 [==============================] - 0s 33ms/step\n"
          ]
        },
        {
          "output_type": "execute_result",
          "data": {
            "text/plain": [
              "array([6.3631625e-04, 1.3649466e-05, 1.0582790e-04, 1.1546211e-03,\n",
              "       2.3507737e-04, 5.3742254e-04, 2.0124075e-06, 9.8602402e-01,\n",
              "       1.0597081e-04, 1.1185167e-02], dtype=float32)"
            ]
          },
          "metadata": {},
          "execution_count": 49
        }
      ],
      "source": [
        "test_digits = test_images[0:10]\n",
        "predictions = model.predict(test_digits)\n",
        "predictions[0]"
      ]
    },
    {
      "cell_type": "code",
      "execution_count": null,
      "metadata": {
        "id": "HW3-JQAbJ2gx",
        "colab": {
          "base_uri": "https://localhost:8080/"
        },
        "outputId": "bbfe685a-a436-4796-b532-d180347e62de"
      },
      "outputs": [
        {
          "output_type": "execute_result",
          "data": {
            "text/plain": [
              "7"
            ]
          },
          "metadata": {},
          "execution_count": 50
        }
      ],
      "source": [
        "predictions[0].argmax()"
      ]
    },
    {
      "cell_type": "code",
      "execution_count": null,
      "metadata": {
        "id": "PbkIdDb3J2gx",
        "colab": {
          "base_uri": "https://localhost:8080/"
        },
        "outputId": "74aa7829-d5b4-4499-b8af-b3f2fe723643"
      },
      "outputs": [
        {
          "output_type": "execute_result",
          "data": {
            "text/plain": [
              "0.986024"
            ]
          },
          "metadata": {},
          "execution_count": 51
        }
      ],
      "source": [
        "predictions[0][7]"
      ]
    },
    {
      "cell_type": "code",
      "execution_count": null,
      "metadata": {
        "id": "q1jPb9MYJ2gx",
        "colab": {
          "base_uri": "https://localhost:8080/"
        },
        "outputId": "572febd8-92c1-47d2-e6d8-c87fb31b4d2d"
      },
      "outputs": [
        {
          "output_type": "execute_result",
          "data": {
            "text/plain": [
              "7"
            ]
          },
          "metadata": {},
          "execution_count": 52
        }
      ],
      "source": [
        "test_labels[0]"
      ]
    },
    {
      "cell_type": "markdown",
      "metadata": {
        "id": "jHLtEjl3J2gy"
      },
      "source": [
        "**Evaluating the model on new data**"
      ]
    },
    {
      "cell_type": "code",
      "execution_count": null,
      "metadata": {
        "id": "V65sHCxUJ2gy",
        "colab": {
          "base_uri": "https://localhost:8080/"
        },
        "outputId": "ffd47484-038d-4d78-c84c-750530e4a111"
      },
      "outputs": [
        {
          "output_type": "stream",
          "name": "stdout",
          "text": [
            "313/313 [==============================] - 1s 3ms/step - loss: 0.4382 - accuracy: 0.8857\n",
            "test_acc: 0.885699987411499\n"
          ]
        }
      ],
      "source": [
        "test_loss, test_acc = model.evaluate(test_images, test_labels)\n",
        "print(f\"test_acc: {test_acc}\")"
      ]
    },
    {
      "cell_type": "markdown",
      "metadata": {
        "id": "qXb5FumNJ2gy"
      },
      "source": [
        "## Data representations for neural networks"
      ]
    },
    {
      "cell_type": "markdown",
      "metadata": {
        "id": "QRv1uGX7J2gy"
      },
      "source": [
        "### Scalars (rank-0 tensors)"
      ]
    },
    {
      "cell_type": "code",
      "execution_count": null,
      "metadata": {
        "id": "e51wgE0YJ2gy",
        "colab": {
          "base_uri": "https://localhost:8080/"
        },
        "outputId": "6a8e0337-d4e1-4ca4-be57-a2d7e1c6ac0c"
      },
      "outputs": [
        {
          "output_type": "execute_result",
          "data": {
            "text/plain": [
              "array(12)"
            ]
          },
          "metadata": {},
          "execution_count": 32
        }
      ],
      "source": [
        "import numpy as np\n",
        "x = np.array(12)\n",
        "x"
      ]
    },
    {
      "cell_type": "code",
      "execution_count": null,
      "metadata": {
        "id": "CmT9JbMhJ2gy",
        "colab": {
          "base_uri": "https://localhost:8080/"
        },
        "outputId": "e21da99d-04f2-4d97-9ddc-2a02cd3687ad"
      },
      "outputs": [
        {
          "output_type": "execute_result",
          "data": {
            "text/plain": [
              "0"
            ]
          },
          "metadata": {},
          "execution_count": 33
        }
      ],
      "source": [
        "x.ndim"
      ]
    },
    {
      "cell_type": "markdown",
      "metadata": {
        "id": "EMqnQTV-J2gy"
      },
      "source": [
        "### Vectors (rank-1 tensors)"
      ]
    },
    {
      "cell_type": "code",
      "execution_count": null,
      "metadata": {
        "id": "Ixwk1_tyJ2gy",
        "colab": {
          "base_uri": "https://localhost:8080/"
        },
        "outputId": "1a66bea5-23f7-429c-f776-bd3838f06262"
      },
      "outputs": [
        {
          "output_type": "execute_result",
          "data": {
            "text/plain": [
              "array([12,  3,  6, 14,  7])"
            ]
          },
          "metadata": {},
          "execution_count": 34
        }
      ],
      "source": [
        "x = np.array([12, 3, 6, 14, 7])\n",
        "x"
      ]
    },
    {
      "cell_type": "code",
      "execution_count": null,
      "metadata": {
        "id": "5aEGWzJKJ2gz",
        "colab": {
          "base_uri": "https://localhost:8080/"
        },
        "outputId": "73f86fbc-4b55-48c8-eeda-e04ca7650b84"
      },
      "outputs": [
        {
          "output_type": "execute_result",
          "data": {
            "text/plain": [
              "1"
            ]
          },
          "metadata": {},
          "execution_count": 35
        }
      ],
      "source": [
        "x.ndim"
      ]
    },
    {
      "cell_type": "markdown",
      "metadata": {
        "id": "6G5cC16xJ2gz"
      },
      "source": [
        "### Matrices (rank-2 tensors)"
      ]
    },
    {
      "cell_type": "code",
      "execution_count": null,
      "metadata": {
        "id": "OAmUL40OJ2gz",
        "colab": {
          "base_uri": "https://localhost:8080/"
        },
        "outputId": "c0c0ac0d-a1d5-4e54-9c72-617b22a29a60"
      },
      "outputs": [
        {
          "output_type": "execute_result",
          "data": {
            "text/plain": [
              "2"
            ]
          },
          "metadata": {},
          "execution_count": 54
        }
      ],
      "source": [
        "x = np.array([[5, 78, 2, 34, 0],\n",
        "              [6, 79, 3, 35, 1],\n",
        "              [7, 80, 4, 36, 2]])\n",
        "x.ndim"
      ]
    },
    {
      "cell_type": "markdown",
      "metadata": {
        "id": "l0Sw0mR0J2gz"
      },
      "source": [
        "### Rank-3 and higher-rank tensors"
      ]
    },
    {
      "cell_type": "code",
      "execution_count": null,
      "metadata": {
        "id": "nUrnZokTJ2g0",
        "colab": {
          "base_uri": "https://localhost:8080/"
        },
        "outputId": "56a33aee-b797-4898-9989-14c0b8ab15c0"
      },
      "outputs": [
        {
          "output_type": "execute_result",
          "data": {
            "text/plain": [
              "3"
            ]
          },
          "metadata": {},
          "execution_count": 55
        }
      ],
      "source": [
        "x = np.array([[[5, 78, 2, 34, 0],\n",
        "               [6, 79, 3, 35, 1],\n",
        "               [7, 80, 4, 36, 2]],\n",
        "              [[5, 78, 2, 34, 0],\n",
        "               [6, 79, 3, 35, 1],\n",
        "               [7, 80, 4, 36, 2]],\n",
        "              [[5, 78, 2, 34, 0],\n",
        "               [6, 79, 3, 35, 1],\n",
        "               [7, 80, 4, 36, 2]]])\n",
        "x.ndim"
      ]
    },
    {
      "cell_type": "markdown",
      "metadata": {
        "id": "0LVEFxgGJ2g0"
      },
      "source": [
        "### Key attributes"
      ]
    },
    {
      "cell_type": "code",
      "execution_count": null,
      "metadata": {
        "id": "pW5aMiXSJ2g0",
        "colab": {
          "base_uri": "https://localhost:8080/"
        },
        "outputId": "85388b83-2b66-4bfc-ea10-040af1b0364f"
      },
      "outputs": [
        {
          "output_type": "stream",
          "name": "stdout",
          "text": [
            "Downloading data from https://storage.googleapis.com/tensorflow/tf-keras-datasets/mnist.npz\n",
            "11490434/11490434 [==============================] - 0s 0us/step\n"
          ]
        }
      ],
      "source": [
        "from tensorflow.keras.datasets import mnist\n",
        "(train_images, train_labels), (test_images, test_labels) = mnist.load_data()"
      ]
    },
    {
      "cell_type": "code",
      "execution_count": null,
      "metadata": {
        "id": "LVVixagVJ2g-",
        "colab": {
          "base_uri": "https://localhost:8080/"
        },
        "outputId": "f093e040-4d2e-49f5-e96c-bd0d1655546d"
      },
      "outputs": [
        {
          "output_type": "execute_result",
          "data": {
            "text/plain": [
              "3"
            ]
          },
          "metadata": {},
          "execution_count": 57
        }
      ],
      "source": [
        "train_images.ndim"
      ]
    },
    {
      "cell_type": "code",
      "execution_count": null,
      "metadata": {
        "id": "5oulsQviJ2g_",
        "colab": {
          "base_uri": "https://localhost:8080/"
        },
        "outputId": "5ca5ab69-746e-4895-8f6c-a476ad1ea2fa"
      },
      "outputs": [
        {
          "output_type": "execute_result",
          "data": {
            "text/plain": [
              "(60000, 28, 28)"
            ]
          },
          "metadata": {},
          "execution_count": 58
        }
      ],
      "source": [
        "train_images.shape"
      ]
    },
    {
      "cell_type": "code",
      "execution_count": null,
      "metadata": {
        "id": "eo4nuUMVJ2g_",
        "colab": {
          "base_uri": "https://localhost:8080/"
        },
        "outputId": "d51e46cf-1f54-4629-9d5e-66b601442457"
      },
      "outputs": [
        {
          "output_type": "execute_result",
          "data": {
            "text/plain": [
              "dtype('uint8')"
            ]
          },
          "metadata": {},
          "execution_count": 59
        }
      ],
      "source": [
        "train_images.dtype"
      ]
    },
    {
      "cell_type": "markdown",
      "metadata": {
        "id": "jrwotQkYJ2g_"
      },
      "source": [
        "**Displaying the fourth digit**"
      ]
    },
    {
      "cell_type": "code",
      "execution_count": null,
      "metadata": {
        "id": "WkwgqmCRJ2g_",
        "colab": {
          "base_uri": "https://localhost:8080/",
          "height": 430
        },
        "outputId": "1d71f0a6-0e22-474a-b4a5-54ae1e77c3da"
      },
      "outputs": [
        {
          "output_type": "display_data",
          "data": {
            "text/plain": [
              "<Figure size 640x480 with 1 Axes>"
            ],
            "image/png": "[encoded data removed]"
          },
          "metadata": {}
        }
      ],
      "source": [
        "import matplotlib.pyplot as plt\n",
        "digit = train_images[4]\n",
        "plt.imshow(digit, cmap=plt.cm.binary)\n",
        "plt.show()"
      ]
    },
    {
      "cell_type": "code",
      "execution_count": null,
      "metadata": {
        "id": "1bx1P5N8J2g_",
        "colab": {
          "base_uri": "https://localhost:8080/"
        },
        "outputId": "25e8b929-3e89-4dbc-920d-0a8ec9c920fc"
      },
      "outputs": [
        {
          "output_type": "execute_result",
          "data": {
            "text/plain": [
              "9"
            ]
          },
          "metadata": {},
          "execution_count": 61
        }
      ],
      "source": [
        "train_labels[4]"
      ]
    },
    {
      "cell_type": "markdown",
      "metadata": {
        "id": "VzdvQyZBJ2g_"
      },
      "source": [
        "### Manipulating tensors in NumPy"
      ]
    },
    {
      "cell_type": "code",
      "execution_count": null,
      "metadata": {
        "id": "13BOXVUAJ2hA",
        "colab": {
          "base_uri": "https://localhost:8080/"
        },
        "outputId": "b6c5e522-81c1-4c1a-94eb-c8aa0337fc81"
      },
      "outputs": [
        {
          "output_type": "execute_result",
          "data": {
            "text/plain": [
              "(90, 28, 28)"
            ]
          },
          "metadata": {},
          "execution_count": 62
        }
      ],
      "source": [
        "my_slice = train_images[10:100]\n",
        "my_slice.shape"
      ]
    },
    {
      "cell_type": "code",
      "execution_count": null,
      "metadata": {
        "id": "8-BZxfoVJ2hA",
        "colab": {
          "base_uri": "https://localhost:8080/"
        },
        "outputId": "6841b732-8953-460b-8342-eb6379546255"
      },
      "outputs": [
        {
          "output_type": "execute_result",
          "data": {
            "text/plain": [
              "(90, 28, 28)"
            ]
          },
          "metadata": {},
          "execution_count": 63
        }
      ],
      "source": [
        "my_slice = train_images[10:100, :, :]\n",
        "my_slice.shape"
      ]
    },
    {
      "cell_type": "code",
      "execution_count": null,
      "metadata": {
        "id": "zIvo1TI8J2hA",
        "colab": {
          "base_uri": "https://localhost:8080/"
        },
        "outputId": "1063823b-5c04-419c-acd5-c7ab7778b4d0"
      },
      "outputs": [
        {
          "output_type": "execute_result",
          "data": {
            "text/plain": [
              "(90, 28, 28)"
            ]
          },
          "metadata": {},
          "execution_count": 64
        }
      ],
      "source": [
        "my_slice = train_images[10:100, 0:28, 0:28]\n",
        "my_slice.shape"
      ]
    },
    {
      "cell_type": "code",
      "execution_count": null,
      "metadata": {
        "id": "_EimMvFYJ2hA"
      },
      "outputs": [],
      "source": [
        "my_slice = train_images[:, 14:, 14:]"
      ]
    },
    {
      "cell_type": "code",
      "execution_count": null,
      "metadata": {
        "id": "p1Dk00VuJ2hA"
      },
      "outputs": [],
      "source": [
        "my_slice = train_images[:, 7:-7, 7:-7]"
      ]
    },
    {
      "cell_type": "markdown",
      "metadata": {
        "id": "16ZwEkxRJ2hA"
      },
      "source": [
        "### The notion of data batches"
      ]
    },
    {
      "cell_type": "code",
      "execution_count": null,
      "metadata": {
        "id": "Xw3DQUebJ2hB"
      },
      "outputs": [],
      "source": [
        "batch = train_images[:128]"
      ]
    },
    {
      "cell_type": "code",
      "execution_count": null,
      "metadata": {
        "id": "2cH7SVDcJ2hB"
      },
      "outputs": [],
      "source": [
        "batch = train_images[128:256]"
      ]
    },
    {
      "cell_type": "code",
      "execution_count": null,
      "metadata": {
        "id": "Uv2MK6tBJ2hB"
      },
      "outputs": [],
      "source": [
        "n = 3\n",
        "batch = train_images[128 * n:128 * (n + 1)]"
      ]
    },
    {
      "cell_type": "code",
      "source": [
        "batch.ndim"
      ],
      "metadata": {
        "colab": {
          "base_uri": "https://localhost:8080/"
        },
        "id": "3HKNCAQIRRQk",
        "outputId": "9adabfd0-7e82-4161-fcad-6a6860de7317"
      },
      "execution_count": null,
      "outputs": [
        {
          "output_type": "execute_result",
          "data": {
            "text/plain": [
              "3"
            ]
          },
          "metadata": {},
          "execution_count": 73
        }
      ]
    },
    {
      "cell_type": "code",
      "source": [
        "# prompt: create a 3D tensor object\n",
        "\n",
        "x = np.array([[[5, 78, 2, 34, 0],\n",
        "               [6, 79, 3, 35, 1],\n",
        "               [7, 80, 4, 36, 2]],\n",
        "              [[5, 78, 2, 34, 0],\n",
        "               [6, 79, 3, 35, 1],\n",
        "               [7, 80, 4, 36, 2]],\n",
        "              [[5, 78, 2, 34, 0],\n",
        "               [6, 79, 3, 35, 1],\n",
        "               [7, 80, 4, 36, 2]]])\n"
      ],
      "metadata": {
        "id": "wjoBxRvfTO3N"
      },
      "execution_count": null,
      "outputs": []
    },
    {
      "cell_type": "code",
      "source": [
        "tmp = train_images[0].reshape(14, 14, -1)\n",
        "tmp"
      ],
      "metadata": {
        "colab": {
          "base_uri": "https://localhost:8080/"
        },
        "id": "Cwe8OeEvR3ZR",
        "outputId": "9d2580ab-e276-41d5-f939-0301c30415ba"
      },
      "execution_count": null,
      "outputs": [
        {
          "output_type": "execute_result",
          "data": {
            "text/plain": [
              "array([[[  0,   0,   0,   0],\n",
              "        [  0,   0,   0,   0],\n",
              "        [  0,   0,   0,   0],\n",
              "        [  0,   0,   0,   0],\n",
              "        [  0,   0,   0,   0],\n",
              "        [  0,   0,   0,   0],\n",
              "        [  0,   0,   0,   0],\n",
              "        [  0,   0,   0,   0],\n",
              "        [  0,   0,   0,   0],\n",
              "        [  0,   0,   0,   0],\n",
              "        [  0,   0,   0,   0],\n",
              "        [  0,   0,   0,   0],\n",
              "        [  0,   0,   0,   0],\n",
              "        [  0,   0,   0,   0]],\n",
              "\n",
              "       [[  0,   0,   0,   0],\n",
              "        [  0,   0,   0,   0],\n",
              "        [  0,   0,   0,   0],\n",
              "        [  0,   0,   0,   0],\n",
              "        [  0,   0,   0,   0],\n",
              "        [  0,   0,   0,   0],\n",
              "        [  0,   0,   0,   0],\n",
              "        [  0,   0,   0,   0],\n",
              "        [  0,   0,   0,   0],\n",
              "        [  0,   0,   0,   0],\n",
              "        [  0,   0,   0,   0],\n",
              "        [  0,   0,   0,   0],\n",
              "        [  0,   0,   0,   0],\n",
              "        [  0,   0,   0,   0]],\n",
              "\n",
              "       [[  0,   0,   0,   0],\n",
              "        [  0,   0,   0,   0],\n",
              "        [  0,   0,   0,   0],\n",
              "        [  0,   0,   0,   0],\n",
              "        [  0,   0,   0,   0],\n",
              "        [  0,   0,   0,   0],\n",
              "        [  0,   0,   0,   0],\n",
              "        [  0,   0,   0,   0],\n",
              "        [  0,   0,   0,   0],\n",
              "        [  0,   0,   0,   0],\n",
              "        [  3,  18,  18,  18],\n",
              "        [126, 136, 175,  26],\n",
              "        [166, 255, 247, 127],\n",
              "        [  0,   0,   0,   0]],\n",
              "\n",
              "       [[  0,   0,   0,   0],\n",
              "        [  0,   0,   0,   0],\n",
              "        [ 30,  36,  94, 154],\n",
              "        [170, 253, 253, 253],\n",
              "        [253, 253, 225, 172],\n",
              "        [253, 242, 195,  64],\n",
              "        [  0,   0,   0,   0],\n",
              "        [  0,   0,   0,   0],\n",
              "        [  0,   0,   0,  49],\n",
              "        [238, 253, 253, 253],\n",
              "        [253, 253, 253, 253],\n",
              "        [253, 251,  93,  82],\n",
              "        [ 82,  56,  39,   0],\n",
              "        [  0,   0,   0,   0]],\n",
              "\n",
              "       [[  0,   0,   0,   0],\n",
              "        [  0,   0,   0,  18],\n",
              "        [219, 253, 253, 253],\n",
              "        [253, 253, 198, 182],\n",
              "        [247, 241,   0,   0],\n",
              "        [  0,   0,   0,   0],\n",
              "        [  0,   0,   0,   0],\n",
              "        [  0,   0,   0,   0],\n",
              "        [  0,   0,   0,   0],\n",
              "        [ 80, 156, 107, 253],\n",
              "        [253, 205,  11,   0],\n",
              "        [ 43, 154,   0,   0],\n",
              "        [  0,   0,   0,   0],\n",
              "        [  0,   0,   0,   0]],\n",
              "\n",
              "       [[  0,   0,   0,   0],\n",
              "        [  0,   0,   0,   0],\n",
              "        [  0,  14,   1, 154],\n",
              "        [253,  90,   0,   0],\n",
              "        [  0,   0,   0,   0],\n",
              "        [  0,   0,   0,   0],\n",
              "        [  0,   0,   0,   0],\n",
              "        [  0,   0,   0,   0],\n",
              "        [  0,   0,   0,   0],\n",
              "        [  0,   0,   0, 139],\n",
              "        [253, 190,   2,   0],\n",
              "        [  0,   0,   0,   0],\n",
              "        [  0,   0,   0,   0],\n",
              "        [  0,   0,   0,   0]],\n",
              "\n",
              "       [[  0,   0,   0,   0],\n",
              "        [  0,   0,   0,   0],\n",
              "        [  0,   0,   0,  11],\n",
              "        [190, 253,  70,   0],\n",
              "        [  0,   0,   0,   0],\n",
              "        [  0,   0,   0,   0],\n",
              "        [  0,   0,   0,   0],\n",
              "        [  0,   0,   0,   0],\n",
              "        [  0,   0,   0,   0],\n",
              "        [  0,   0,   0,   0],\n",
              "        [ 35, 241, 225, 160],\n",
              "        [108,   1,   0,   0],\n",
              "        [  0,   0,   0,   0],\n",
              "        [  0,   0,   0,   0]],\n",
              "\n",
              "       [[  0,   0,   0,   0],\n",
              "        [  0,   0,   0,   0],\n",
              "        [  0,   0,   0,   0],\n",
              "        [  0,  81, 240, 253],\n",
              "        [253, 119,  25,   0],\n",
              "        [  0,   0,   0,   0],\n",
              "        [  0,   0,   0,   0],\n",
              "        [  0,   0,   0,   0],\n",
              "        [  0,   0,   0,   0],\n",
              "        [  0,   0,   0,   0],\n",
              "        [  0,   0,  45, 186],\n",
              "        [253, 253, 150,  27],\n",
              "        [  0,   0,   0,   0],\n",
              "        [  0,   0,   0,   0]],\n",
              "\n",
              "       [[  0,   0,   0,   0],\n",
              "        [  0,   0,   0,   0],\n",
              "        [  0,   0,   0,   0],\n",
              "        [  0,   0,   0,  16],\n",
              "        [ 93, 252, 253, 187],\n",
              "        [  0,   0,   0,   0],\n",
              "        [  0,   0,   0,   0],\n",
              "        [  0,   0,   0,   0],\n",
              "        [  0,   0,   0,   0],\n",
              "        [  0,   0,   0,   0],\n",
              "        [  0,   0,   0,   0],\n",
              "        [  0, 249, 253, 249],\n",
              "        [ 64,   0,   0,   0],\n",
              "        [  0,   0,   0,   0]],\n",
              "\n",
              "       [[  0,   0,   0,   0],\n",
              "        [  0,   0,   0,   0],\n",
              "        [  0,   0,   0,   0],\n",
              "        [  0,   0,  46, 130],\n",
              "        [183, 253, 253, 207],\n",
              "        [  2,   0,   0,   0],\n",
              "        [  0,   0,   0,   0],\n",
              "        [  0,   0,   0,   0],\n",
              "        [  0,   0,   0,   0],\n",
              "        [  0,   0,   0,   0],\n",
              "        [ 39, 148, 229, 253],\n",
              "        [253, 253, 250, 182],\n",
              "        [  0,   0,   0,   0],\n",
              "        [  0,   0,   0,   0]],\n",
              "\n",
              "       [[  0,   0,   0,   0],\n",
              "        [  0,   0,   0,   0],\n",
              "        [  0,   0,  24, 114],\n",
              "        [221, 253, 253, 253],\n",
              "        [253, 201,  78,   0],\n",
              "        [  0,   0,   0,   0],\n",
              "        [  0,   0,   0,   0],\n",
              "        [  0,   0,   0,   0],\n",
              "        [  0,   0,   0,   0],\n",
              "        [ 23,  66, 213, 253],\n",
              "        [253, 253, 253, 198],\n",
              "        [ 81,   2,   0,   0],\n",
              "        [  0,   0,   0,   0],\n",
              "        [  0,   0,   0,   0]],\n",
              "\n",
              "       [[  0,   0,   0,   0],\n",
              "        [  0,   0,  18, 171],\n",
              "        [219, 253, 253, 253],\n",
              "        [253, 195,  80,   9],\n",
              "        [  0,   0,   0,   0],\n",
              "        [  0,   0,   0,   0],\n",
              "        [  0,   0,   0,   0],\n",
              "        [  0,   0,   0,   0],\n",
              "        [ 55, 172, 226, 253],\n",
              "        [253, 253, 253, 244],\n",
              "        [133,  11,   0,   0],\n",
              "        [  0,   0,   0,   0],\n",
              "        [  0,   0,   0,   0],\n",
              "        [  0,   0,   0,   0]],\n",
              "\n",
              "       [[  0,   0,   0,   0],\n",
              "        [136, 253, 253, 253],\n",
              "        [212, 135, 132,  16],\n",
              "        [  0,   0,   0,   0],\n",
              "        [  0,   0,   0,   0],\n",
              "        [  0,   0,   0,   0],\n",
              "        [  0,   0,   0,   0],\n",
              "        [  0,   0,   0,   0],\n",
              "        [  0,   0,   0,   0],\n",
              "        [  0,   0,   0,   0],\n",
              "        [  0,   0,   0,   0],\n",
              "        [  0,   0,   0,   0],\n",
              "        [  0,   0,   0,   0],\n",
              "        [  0,   0,   0,   0]],\n",
              "\n",
              "       [[  0,   0,   0,   0],\n",
              "        [  0,   0,   0,   0],\n",
              "        [  0,   0,   0,   0],\n",
              "        [  0,   0,   0,   0],\n",
              "        [  0,   0,   0,   0],\n",
              "        [  0,   0,   0,   0],\n",
              "        [  0,   0,   0,   0],\n",
              "        [  0,   0,   0,   0],\n",
              "        [  0,   0,   0,   0],\n",
              "        [  0,   0,   0,   0],\n",
              "        [  0,   0,   0,   0],\n",
              "        [  0,   0,   0,   0],\n",
              "        [  0,   0,   0,   0],\n",
              "        [  0,   0,   0,   0]]], dtype=uint8)"
            ]
          },
          "metadata": {},
          "execution_count": 75
        }
      ]
    },
    {
      "cell_type": "markdown",
      "metadata": {
        "id": "V0XH0oYvJ2hB"
      },
      "source": [
        "### Real-world examples of data tensors"
      ]
    },
    {
      "cell_type": "markdown",
      "metadata": {
        "id": "PqjxPbJGJ2hC"
      },
      "source": [
        "### Vector data"
      ]
    },
    {
      "cell_type": "markdown",
      "metadata": {
        "id": "zMiVeevvJ2hC"
      },
      "source": [
        "### Timeseries data or sequence data"
      ]
    },
    {
      "cell_type": "markdown",
      "metadata": {
        "id": "MM3YLXo2J2hC"
      },
      "source": [
        "### Image data"
      ]
    },
    {
      "cell_type": "markdown",
      "metadata": {
        "id": "DXx7AT-fJ2hC"
      },
      "source": [
        "### Video data"
      ]
    },
    {
      "cell_type": "markdown",
      "metadata": {
        "id": "6Xte3WsDJ2hC"
      },
      "source": [
        "## The gears of neural networks: tensor operations"
      ]
    },
    {
      "cell_type": "code",
      "source": [
        "import numpy as np"
      ],
      "metadata": {
        "id": "9YZgx0mvKdJR"
      },
      "execution_count": null,
      "outputs": []
    },
    {
      "cell_type": "markdown",
      "metadata": {
        "id": "czuuRShaJ2hC"
      },
      "source": [
        "### Element-wise operations"
      ]
    },
    {
      "cell_type": "code",
      "execution_count": null,
      "metadata": {
        "id": "erEBUWkUJ2hC"
      },
      "outputs": [],
      "source": [
        "def naive_relu(x):\n",
        "    assert len(x.shape) == 2\n",
        "    x = x.copy()\n",
        "    for i in range(x.shape[0]):\n",
        "        for j in range(x.shape[1]):\n",
        "            x[i, j] = max(x[i, j], 0)\n",
        "    return x"
      ]
    },
    {
      "cell_type": "code",
      "execution_count": null,
      "metadata": {
        "id": "9S-U_IETJ2hC"
      },
      "outputs": [],
      "source": [
        "def naive_add(x, y):\n",
        "    assert len(x.shape) == 2\n",
        "    assert x.shape == y.shape\n",
        "    x = x.copy()\n",
        "    for i in range(x.shape[0]):\n",
        "        for j in range(x.shape[1]):\n",
        "            x[i, j] += y[i, j]\n",
        "    return x"
      ]
    },
    {
      "cell_type": "code",
      "execution_count": null,
      "metadata": {
        "id": "M8EKVn9TJ2hD",
        "colab": {
          "base_uri": "https://localhost:8080/"
        },
        "outputId": "a71cfeb1-1b10-4cfc-9c77-d888ebad2b93"
      },
      "outputs": [
        {
          "output_type": "stream",
          "name": "stdout",
          "text": [
            "Took: 0.01 s\n"
          ]
        }
      ],
      "source": [
        "import time\n",
        "\n",
        "x = np.random.random((20, 100))\n",
        "y = np.random.random((20, 100))\n",
        "\n",
        "t0 = time.time()\n",
        "for _ in range(1000):\n",
        "    z = x + y\n",
        "    z = np.maximum(z, 0.)\n",
        "print(\"Took: {0:.2f} s\".format(time.time() - t0))"
      ]
    },
    {
      "cell_type": "code",
      "execution_count": null,
      "metadata": {
        "id": "W5IXIBtyJ2hD",
        "colab": {
          "base_uri": "https://localhost:8080/"
        },
        "outputId": "0a35931c-d014-4cc1-8491-6f4df6f828a0"
      },
      "outputs": [
        {
          "output_type": "stream",
          "name": "stdout",
          "text": [
            "Took: 1.83 s\n"
          ]
        }
      ],
      "source": [
        "t0 = time.time()\n",
        "for _ in range(1000):\n",
        "    z = naive_add(x, y)\n",
        "    z = naive_relu(z)\n",
        "print(\"Took: {0:.2f} s\".format(time.time() - t0))"
      ]
    },
    {
      "cell_type": "markdown",
      "metadata": {
        "id": "dFs5fPStJ2hD"
      },
      "source": [
        "### Broadcasting"
      ]
    },
    {
      "cell_type": "code",
      "execution_count": null,
      "metadata": {
        "id": "Vd5uK5j8J2hD"
      },
      "outputs": [],
      "source": [
        "import numpy as np\n",
        "X = np.random.random((32, 10))\n",
        "y = np.random.random((10,))"
      ]
    },
    {
      "cell_type": "code",
      "execution_count": null,
      "metadata": {
        "id": "euIwfWF0J2hD"
      },
      "outputs": [],
      "source": [
        "y = np.expand_dims(y, axis=0)"
      ]
    },
    {
      "cell_type": "code",
      "source": [
        "y"
      ],
      "metadata": {
        "colab": {
          "base_uri": "https://localhost:8080/"
        },
        "id": "kuJiF169Nz1Y",
        "outputId": "73990753-1198-478f-de6f-77c1dcb8d395"
      },
      "execution_count": null,
      "outputs": [
        {
          "output_type": "execute_result",
          "data": {
            "text/plain": [
              "array([0.66483765, 0.17501255, 0.35818594, 0.9491717 , 0.6573111 ,\n",
              "       0.72412817, 0.95206375, 0.18999739, 0.00112207, 0.22892993])"
            ]
          },
          "metadata": {},
          "execution_count": 33
        }
      ]
    },
    {
      "cell_type": "code",
      "execution_count": null,
      "metadata": {
        "id": "ESM7O-m1J2hD"
      },
      "outputs": [],
      "source": [
        "Y = np.concatenate([y] * 32, axis=0)"
      ]
    },
    {
      "cell_type": "code",
      "execution_count": null,
      "metadata": {
        "id": "YGoyNah0J2hE"
      },
      "outputs": [],
      "source": [
        "def naive_add_matrix_and_vector(x, y):\n",
        "    assert len(x.shape) == 2\n",
        "    assert len(y.shape) == 1\n",
        "    assert x.shape[1] == y.shape[0]\n",
        "    x = x.copy()\n",
        "    for i in range(x.shape[0]):\n",
        "        for j in range(x.shape[1]):\n",
        "            x[i, j] += y[j]\n",
        "    return x"
      ]
    },
    {
      "cell_type": "code",
      "execution_count": null,
      "metadata": {
        "id": "Fq7k-T7zJ2hE"
      },
      "outputs": [],
      "source": [
        "import numpy as np\n",
        "x = np.random.random((64, 3, 32, 10))\n",
        "y = np.random.random((32, 10))\n",
        "z = np.maximum(x, y)"
      ]
    },
    {
      "cell_type": "code",
      "source": [
        "x[0]"
      ],
      "metadata": {
        "colab": {
          "base_uri": "https://localhost:8080/"
        },
        "id": "Nr185fRhOJE3",
        "outputId": "860e03bd-130a-4652-91ef-323a693dd622"
      },
      "execution_count": null,
      "outputs": [
        {
          "output_type": "execute_result",
          "data": {
            "text/plain": [
              "array([[[4.42192084e-01, 1.61179400e-02, 6.45088623e-01, 6.35290861e-02,\n",
              "         6.63222827e-01, 1.07907354e-01, 1.69695295e-01, 9.53136605e-01,\n",
              "         1.16181227e-01, 1.75080934e-01],\n",
              "        [6.86709398e-01, 8.37199628e-01, 1.07643962e-01, 1.45860750e-01,\n",
              "         1.74763496e-01, 7.10274828e-01, 4.31404581e-02, 2.44492634e-01,\n",
              "         7.32089626e-01, 8.38207767e-01],\n",
              "        [5.43158322e-01, 2.18673687e-01, 7.29007458e-01, 5.98474147e-01,\n",
              "         6.63307090e-01, 6.52138132e-02, 9.11508390e-01, 8.51812505e-01,\n",
              "         2.27717302e-01, 4.10725374e-01],\n",
              "        [6.88385163e-01, 6.43994918e-01, 7.84273544e-01, 5.66284899e-01,\n",
              "         4.76541663e-01, 4.44213601e-01, 7.48866489e-01, 1.57819515e-01,\n",
              "         4.01806350e-01, 1.60110310e-01],\n",
              "        [4.29253342e-01, 2.65235204e-01, 6.56068442e-01, 7.04323422e-01,\n",
              "         2.45691974e-01, 3.90199895e-01, 4.58414751e-01, 8.40024446e-01,\n",
              "         9.62646054e-01, 3.51094733e-01],\n",
              "        [9.90894589e-01, 6.37341205e-02, 7.13434794e-01, 9.25056106e-01,\n",
              "         7.44265821e-01, 1.91875457e-02, 3.61884205e-01, 2.45258403e-01,\n",
              "         8.42045693e-01, 3.95778051e-01],\n",
              "        [1.98214196e-01, 2.60048530e-01, 5.40131640e-01, 5.12840128e-01,\n",
              "         3.66266182e-01, 7.17073662e-01, 2.56532816e-01, 7.09681097e-01,\n",
              "         9.46469418e-01, 3.46413783e-01],\n",
              "        [8.92944313e-01, 6.34743173e-02, 1.83777108e-02, 7.08680400e-01,\n",
              "         2.24152042e-01, 1.45619076e-01, 2.61466282e-01, 4.60106140e-01,\n",
              "         8.84630597e-01, 5.16576307e-01],\n",
              "        [3.62117993e-01, 6.22352965e-01, 9.52754423e-01, 9.86785905e-01,\n",
              "         3.11038906e-01, 9.57789970e-01, 8.67848436e-01, 5.16814226e-01,\n",
              "         9.61920042e-01, 7.15235090e-01],\n",
              "        [5.13257172e-02, 4.46297903e-01, 5.13099064e-01, 4.47149850e-01,\n",
              "         5.51109609e-01, 8.10942187e-01, 3.42764209e-01, 3.48197266e-01,\n",
              "         2.74078049e-01, 2.43053182e-03],\n",
              "        [8.34077775e-01, 7.38493379e-01, 6.33888979e-01, 2.54774635e-01,\n",
              "         6.02409451e-01, 6.05787878e-01, 6.16067452e-01, 8.01033838e-01,\n",
              "         4.63907912e-02, 5.15439476e-01],\n",
              "        [7.13044548e-01, 6.48901768e-01, 2.61719837e-01, 3.69677162e-01,\n",
              "         1.01310021e-01, 5.03545733e-01, 6.25956201e-01, 5.07070913e-01,\n",
              "         4.68989019e-01, 6.00095926e-01],\n",
              "        [4.11507596e-02, 4.07200715e-02, 2.95504374e-01, 1.31266158e-01,\n",
              "         3.35917268e-01, 8.73057548e-01, 1.72798602e-01, 5.52719415e-01,\n",
              "         9.02589596e-02, 2.88142207e-01],\n",
              "        [6.35766291e-01, 1.57558436e-01, 6.53691465e-01, 1.81352825e-01,\n",
              "         4.45398355e-01, 2.43937579e-01, 9.10873116e-01, 5.10956474e-01,\n",
              "         3.97952871e-02, 8.32127847e-01],\n",
              "        [7.35613817e-02, 9.98766267e-01, 6.06827050e-01, 8.61522103e-01,\n",
              "         2.03229741e-01, 8.68126181e-01, 3.98151908e-01, 7.46764265e-01,\n",
              "         9.38879669e-01, 8.86608244e-01],\n",
              "        [6.49891602e-01, 2.64834845e-01, 3.08378996e-02, 9.74440837e-01,\n",
              "         8.62456083e-01, 1.53514396e-01, 2.25650080e-01, 4.18882366e-01,\n",
              "         4.58847922e-01, 2.33065464e-01],\n",
              "        [2.75420390e-01, 1.56280869e-01, 3.89318710e-01, 5.08184491e-01,\n",
              "         6.90647022e-01, 2.02885966e-02, 4.59854235e-01, 2.63619635e-01,\n",
              "         1.64835880e-01, 3.95773862e-01],\n",
              "        [9.29682166e-02, 3.07597501e-01, 6.13761612e-01, 4.99608648e-01,\n",
              "         7.67211062e-01, 4.52177604e-01, 8.83063767e-01, 8.03877589e-01,\n",
              "         1.72767014e-01, 6.52794090e-01],\n",
              "        [1.87552681e-01, 5.06345110e-01, 7.25561000e-01, 6.66727024e-01,\n",
              "         3.63626084e-01, 5.10263144e-01, 7.54513943e-01, 8.65030939e-01,\n",
              "         4.18508792e-01, 6.20040886e-01],\n",
              "        [5.04711217e-01, 9.51442198e-01, 8.97613516e-01, 4.24059404e-01,\n",
              "         7.52363261e-01, 7.31076873e-01, 7.23340125e-01, 3.97991743e-01,\n",
              "         1.11430396e-01, 2.27006804e-01],\n",
              "        [9.15413712e-01, 7.69952991e-01, 4.16394837e-01, 8.75416890e-01,\n",
              "         6.48134341e-01, 2.01717552e-01, 9.14268967e-01, 2.97033175e-01,\n",
              "         3.75818453e-01, 5.93744655e-01],\n",
              "        [7.69202833e-01, 1.73077920e-01, 3.89071850e-01, 5.27447555e-01,\n",
              "         2.82037130e-02, 4.29765817e-01, 8.15738203e-03, 4.92527402e-01,\n",
              "         3.48450862e-01, 8.69822310e-01],\n",
              "        [9.53348615e-01, 8.51453017e-01, 2.75188484e-01, 9.95181268e-01,\n",
              "         6.84048862e-01, 3.63111807e-01, 3.00109428e-01, 6.66982927e-02,\n",
              "         9.91731084e-01, 2.03481678e-01],\n",
              "        [2.63923150e-01, 5.29845734e-01, 9.83701353e-01, 4.39672213e-01,\n",
              "         9.32552823e-01, 8.74458473e-01, 7.09864757e-02, 3.33800349e-01,\n",
              "         8.60046283e-01, 2.99572023e-01],\n",
              "        [4.00276336e-01, 6.13745029e-01, 2.72486950e-01, 3.11826592e-01,\n",
              "         8.06278507e-01, 2.80626989e-01, 2.44670759e-01, 4.99219791e-01,\n",
              "         7.05625800e-02, 1.01674326e-01],\n",
              "        [2.04026495e-01, 5.70531785e-01, 3.34296758e-01, 6.44498678e-01,\n",
              "         3.23866948e-02, 1.01964024e-01, 7.40399915e-01, 4.78216153e-01,\n",
              "         4.35263015e-01, 1.84172712e-01],\n",
              "        [6.34804359e-01, 2.18836008e-01, 5.82691316e-01, 6.98796664e-01,\n",
              "         5.94885217e-01, 3.88389186e-02, 1.04992377e-01, 1.59795933e-01,\n",
              "         9.41743817e-01, 4.84044116e-01],\n",
              "        [2.09510898e-01, 5.43131140e-01, 9.61602722e-01, 1.46843341e-01,\n",
              "         9.45592578e-01, 4.00896663e-01, 3.35356247e-01, 9.43822058e-01,\n",
              "         3.50795749e-01, 7.04724888e-01],\n",
              "        [9.58117773e-01, 1.00549586e-01, 6.95853370e-01, 1.55629229e-01,\n",
              "         5.79028227e-01, 3.23627138e-01, 4.99177887e-01, 6.41723255e-01,\n",
              "         5.69997209e-01, 5.53174676e-01],\n",
              "        [4.42761344e-01, 4.08529964e-01, 6.12016757e-01, 9.30958138e-01,\n",
              "         9.20262360e-01, 8.90647468e-01, 7.65658951e-01, 3.15325460e-01,\n",
              "         2.74925728e-01, 6.12321647e-02],\n",
              "        [6.16723507e-01, 3.66684231e-01, 1.13434310e-01, 9.39323730e-01,\n",
              "         3.02768394e-01, 8.97032316e-01, 9.07595725e-01, 9.88126763e-02,\n",
              "         5.46694336e-01, 3.39752723e-01],\n",
              "        [6.96669187e-01, 6.26504128e-01, 9.25504262e-01, 7.35015841e-01,\n",
              "         9.17834631e-01, 3.60046637e-01, 7.00380242e-02, 2.73054657e-01,\n",
              "         3.92442920e-01, 8.09665198e-01]],\n",
              "\n",
              "       [[6.96320850e-02, 8.24064880e-02, 1.39899338e-01, 3.27311120e-01,\n",
              "         9.43952736e-01, 1.28052535e-01, 1.90379169e-01, 3.61766441e-01,\n",
              "         7.27051723e-01, 3.94928622e-01],\n",
              "        [8.93195986e-01, 6.73188024e-01, 5.63458415e-01, 8.37678848e-01,\n",
              "         2.63696273e-01, 3.58758607e-01, 3.16535396e-01, 8.18757533e-01,\n",
              "         4.56000209e-01, 8.61469974e-01],\n",
              "        [4.59144718e-01, 2.35263400e-01, 1.46020033e-01, 3.78679792e-01,\n",
              "         5.45756886e-02, 3.35967968e-01, 8.53834323e-01, 9.53076209e-02,\n",
              "         7.27734838e-01, 9.22649619e-01],\n",
              "        [9.47561453e-01, 8.13651447e-01, 7.74823665e-01, 1.09457635e-01,\n",
              "         2.51353012e-01, 5.77534447e-03, 8.12185485e-01, 5.44718227e-01,\n",
              "         6.37262827e-01, 8.35241801e-02],\n",
              "        [2.46762265e-01, 1.04458949e-02, 4.59248835e-02, 3.68670400e-01,\n",
              "         1.14369983e-01, 4.68428702e-01, 9.37208222e-01, 1.42154791e-02,\n",
              "         9.54855263e-01, 8.00252766e-01],\n",
              "        [7.19696354e-01, 9.66247783e-01, 1.08186638e-01, 1.87139695e-01,\n",
              "         2.26848378e-01, 4.35422820e-01, 6.19274872e-01, 8.27838954e-01,\n",
              "         2.31454500e-01, 9.94161168e-01],\n",
              "        [1.84647541e-01, 6.79475045e-01, 3.10644545e-01, 3.99885821e-01,\n",
              "         3.50964020e-01, 4.46044165e-01, 1.33173291e-01, 5.39753042e-01,\n",
              "         1.35744040e-01, 1.16852348e-01],\n",
              "        [9.71007032e-02, 6.07285842e-01, 1.99790518e-01, 1.45864968e-01,\n",
              "         8.51537567e-01, 6.17777077e-01, 9.27271446e-02, 7.99686624e-01,\n",
              "         5.07114320e-01, 8.98481682e-01],\n",
              "        [5.77262523e-01, 1.25253669e-01, 1.86570086e-01, 3.14320299e-01,\n",
              "         5.00279147e-01, 2.10588665e-01, 6.29843668e-01, 3.66051652e-01,\n",
              "         9.69470968e-01, 3.97809842e-01],\n",
              "        [9.77997888e-01, 3.07727957e-01, 2.22267922e-01, 8.89522884e-01,\n",
              "         6.67322289e-01, 8.03616977e-01, 2.01494910e-01, 9.08124897e-01,\n",
              "         3.62490376e-01, 4.72017204e-03],\n",
              "        [5.57035283e-01, 1.02367437e-01, 6.90956207e-01, 9.68887705e-01,\n",
              "         1.85211919e-01, 8.89886496e-01, 1.91334149e-01, 7.24379173e-01,\n",
              "         9.33399779e-01, 7.56883145e-01],\n",
              "        [8.54438167e-02, 7.50677768e-01, 1.64788976e-01, 4.64392793e-01,\n",
              "         9.98346670e-01, 9.12504703e-01, 6.77497027e-01, 4.60766302e-01,\n",
              "         3.15008797e-01, 5.88304041e-01],\n",
              "        [7.92028653e-01, 3.41577833e-01, 3.07338508e-01, 4.95864122e-01,\n",
              "         6.76411511e-01, 5.36397099e-01, 5.89520867e-01, 9.46092020e-01,\n",
              "         1.73433554e-01, 9.88721987e-01],\n",
              "        [3.85096711e-01, 2.54627361e-04, 7.48813985e-01, 7.98162704e-02,\n",
              "         6.07225697e-01, 9.64580090e-01, 4.03934680e-02, 2.19580282e-01,\n",
              "         4.64140339e-01, 6.75788833e-01],\n",
              "        [2.84066120e-01, 2.97899965e-01, 4.82755360e-01, 7.46693699e-01,\n",
              "         3.22887958e-01, 3.59483953e-02, 8.23698025e-01, 7.16752600e-01,\n",
              "         8.67310992e-01, 1.14328972e-01],\n",
              "        [7.66320240e-01, 4.18103291e-01, 7.92244330e-01, 3.94458780e-01,\n",
              "         1.81019892e-02, 4.92209199e-01, 5.51518291e-01, 1.33735199e-01,\n",
              "         2.40666239e-02, 5.20631017e-01],\n",
              "        [4.73117492e-01, 6.17917921e-01, 7.79718765e-01, 3.81720052e-01,\n",
              "         8.92715469e-01, 9.87115829e-01, 2.54681507e-01, 6.71271549e-01,\n",
              "         6.87858213e-01, 4.24724156e-01],\n",
              "        [1.66968270e-01, 9.36509816e-01, 3.03979877e-01, 7.37699289e-01,\n",
              "         1.77492747e-01, 6.85308936e-01, 5.65797224e-01, 2.31745801e-02,\n",
              "         3.36550975e-01, 5.61291995e-01],\n",
              "        [2.39674299e-01, 8.56930974e-01, 5.89368571e-01, 8.87933757e-01,\n",
              "         7.86127091e-01, 8.90653075e-01, 4.84003066e-01, 4.95584548e-01,\n",
              "         1.05100884e-02, 9.23034614e-01],\n",
              "        [3.60333202e-01, 9.43317913e-01, 1.52368360e-01, 6.72171132e-01,\n",
              "         8.60635914e-01, 5.82331669e-01, 3.43591477e-01, 9.55135406e-01,\n",
              "         5.14624939e-01, 2.47061371e-01],\n",
              "        [8.77950437e-01, 8.16716991e-01, 8.63261434e-01, 6.89488366e-01,\n",
              "         9.49851309e-01, 7.39109950e-01, 7.18079167e-01, 6.23010170e-01,\n",
              "         2.59387914e-01, 4.18493373e-01],\n",
              "        [8.96431755e-01, 5.31960028e-01, 6.70174361e-01, 7.50810285e-01,\n",
              "         8.23443382e-01, 6.42575582e-01, 4.94507111e-01, 5.26277681e-01,\n",
              "         1.53391360e-01, 1.31871044e-01],\n",
              "        [2.83572855e-01, 1.53054075e-01, 4.27525019e-01, 4.35941607e-01,\n",
              "         4.68347701e-01, 4.66992553e-02, 2.83263555e-01, 3.64230033e-01,\n",
              "         2.30401987e-01, 1.39405627e-01],\n",
              "        [7.23029457e-01, 9.69103190e-01, 9.79518419e-01, 5.94090855e-01,\n",
              "         8.33789840e-01, 8.14704435e-01, 7.16418026e-01, 8.48631171e-01,\n",
              "         8.21873493e-01, 8.65462572e-01],\n",
              "        [9.12824182e-01, 7.33756662e-01, 3.86236058e-01, 1.08087349e-01,\n",
              "         8.79110847e-02, 8.82939250e-01, 7.61729679e-01, 9.70869773e-01,\n",
              "         1.98800440e-01, 8.74173732e-01],\n",
              "        [5.50000914e-01, 9.39350378e-01, 7.26763536e-01, 6.47120379e-02,\n",
              "         7.88250862e-01, 8.54036385e-01, 2.05666604e-01, 8.75145008e-02,\n",
              "         1.94504985e-01, 3.68648580e-02],\n",
              "        [3.61587143e-01, 7.87958612e-01, 7.20262341e-01, 7.96179001e-02,\n",
              "         9.34543788e-02, 3.60928419e-01, 7.29249593e-01, 2.43938710e-01,\n",
              "         9.59681803e-01, 1.06468053e-01],\n",
              "        [3.41372168e-01, 4.16847902e-01, 6.01908637e-01, 6.57383290e-01,\n",
              "         2.24999336e-01, 6.61376753e-01, 6.47961713e-01, 3.56912018e-01,\n",
              "         5.44691075e-01, 3.50250043e-01],\n",
              "        [4.11271552e-01, 5.67347338e-01, 5.54465300e-01, 7.84765224e-01,\n",
              "         4.14621390e-02, 6.79604377e-01, 1.21606638e-01, 1.79138985e-01,\n",
              "         4.58676179e-01, 1.67667304e-01],\n",
              "        [2.28168545e-01, 3.37767212e-02, 6.19729632e-01, 2.46990268e-01,\n",
              "         7.62871906e-02, 3.83366477e-01, 3.35462701e-01, 5.69256506e-01,\n",
              "         2.89747349e-01, 8.58533676e-01],\n",
              "        [7.77941528e-01, 6.68250070e-01, 7.74909874e-01, 2.20527730e-01,\n",
              "         4.70107969e-01, 6.52428339e-01, 7.47870793e-01, 7.63097173e-01,\n",
              "         5.06271372e-01, 6.69039762e-02],\n",
              "        [4.94493995e-01, 2.79559410e-01, 9.70250464e-01, 5.47747232e-01,\n",
              "         3.86743712e-01, 5.53113045e-02, 1.00990721e-01, 2.66437161e-01,\n",
              "         3.49558862e-01, 3.69289694e-01]],\n",
              "\n",
              "       [[5.06352301e-01, 6.53098283e-01, 8.17529698e-01, 9.86008648e-01,\n",
              "         4.19964061e-01, 9.10376849e-02, 6.86162906e-01, 5.10629607e-01,\n",
              "         7.78867140e-01, 7.29568405e-01],\n",
              "        [7.57139156e-01, 2.94432171e-01, 7.64130229e-01, 9.05689610e-02,\n",
              "         4.47200709e-01, 4.11067464e-01, 4.81924319e-01, 8.58233305e-01,\n",
              "         7.35440820e-01, 5.48248566e-01],\n",
              "        [3.58052886e-01, 5.91240381e-01, 9.71867748e-01, 1.69051624e-01,\n",
              "         3.05839918e-01, 2.60573911e-01, 6.74665860e-01, 4.96569864e-01,\n",
              "         1.48224368e-02, 8.60105511e-02],\n",
              "        [3.67500412e-01, 2.61418388e-01, 2.56253791e-02, 3.75407615e-01,\n",
              "         4.75102867e-01, 3.69076665e-01, 7.82812518e-01, 9.78280895e-01,\n",
              "         1.92737442e-01, 9.54998323e-02],\n",
              "        [5.78562487e-01, 8.96701707e-01, 3.62875150e-01, 1.49038803e-02,\n",
              "         7.77533749e-01, 7.30599800e-01, 9.55866207e-01, 1.71199095e-01,\n",
              "         9.25144676e-01, 3.68587839e-01],\n",
              "        [9.06500352e-01, 5.28164217e-01, 3.50917624e-02, 1.31016907e-01,\n",
              "         3.56126313e-01, 6.94619475e-01, 9.62410510e-01, 1.56931214e-01,\n",
              "         4.28201150e-01, 4.14329003e-01],\n",
              "        [6.02860362e-01, 5.73577400e-01, 4.50010626e-01, 4.38611922e-01,\n",
              "         1.01082997e-01, 5.86833799e-01, 9.43395160e-02, 9.36845219e-01,\n",
              "         4.33350431e-01, 8.96804119e-01],\n",
              "        [8.12949731e-01, 4.12829646e-01, 2.72765797e-02, 6.82313870e-01,\n",
              "         3.61396512e-01, 5.42045345e-01, 4.29727866e-01, 2.35607881e-01,\n",
              "         3.60669444e-01, 2.40065553e-01],\n",
              "        [7.61913417e-01, 2.74635706e-01, 1.66370089e-02, 8.38752916e-01,\n",
              "         9.61974632e-02, 3.33436195e-01, 1.13587308e-01, 4.12631680e-02,\n",
              "         7.23086056e-01, 6.61432729e-02],\n",
              "        [4.39096841e-01, 2.46026490e-01, 2.14471718e-01, 4.98428988e-01,\n",
              "         6.00628428e-01, 6.06460048e-01, 9.55066219e-01, 6.01386154e-01,\n",
              "         5.56873728e-01, 3.01394911e-02],\n",
              "        [8.18031156e-01, 8.22663602e-01, 4.88035294e-01, 7.20890278e-02,\n",
              "         4.62437233e-01, 3.97306159e-01, 3.45868773e-01, 9.73460715e-01,\n",
              "         7.91667620e-01, 1.26856603e-01],\n",
              "        [8.59779805e-01, 5.48647319e-01, 1.37761692e-01, 5.02965928e-03,\n",
              "         5.14338945e-02, 3.15836399e-01, 4.26256726e-01, 2.72595061e-01,\n",
              "         2.10129826e-01, 8.31325071e-01],\n",
              "        [3.71257411e-01, 7.71579564e-01, 6.74497001e-01, 2.13920120e-01,\n",
              "         9.77454038e-01, 3.63230224e-01, 2.44200388e-02, 4.36527358e-02,\n",
              "         5.17746263e-01, 8.14941253e-02],\n",
              "        [9.86497269e-01, 5.33219531e-01, 9.57941265e-01, 4.32489872e-01,\n",
              "         9.46300581e-01, 2.93884055e-01, 7.73647753e-01, 4.08584318e-01,\n",
              "         9.42288085e-01, 7.98709521e-01],\n",
              "        [1.44798970e-01, 6.17951757e-01, 7.72205070e-01, 2.91868930e-01,\n",
              "         8.14776581e-01, 3.78062310e-02, 9.92384814e-01, 3.64206861e-01,\n",
              "         7.22008825e-01, 1.07567382e-01],\n",
              "        [7.73339476e-01, 6.73538502e-01, 9.86028116e-01, 9.60163400e-01,\n",
              "         4.11338793e-01, 1.72775980e-01, 1.19437098e-01, 8.40220836e-01,\n",
              "         7.36651092e-01, 9.36473614e-01],\n",
              "        [6.55173070e-01, 7.98683700e-01, 2.84144647e-01, 7.52837414e-01,\n",
              "         3.79924489e-01, 5.83463717e-01, 2.72195077e-01, 2.75948715e-01,\n",
              "         1.60898719e-01, 3.26565769e-01],\n",
              "        [2.30282129e-02, 1.02256000e-01, 5.12539116e-01, 1.55301136e-01,\n",
              "         5.99728432e-01, 7.15583964e-01, 3.95125198e-01, 7.12982124e-02,\n",
              "         6.33726837e-02, 9.87651229e-02],\n",
              "        [4.76345315e-01, 3.03591261e-01, 5.72402588e-01, 4.43684128e-01,\n",
              "         4.31624148e-01, 3.93829488e-01, 9.72637289e-01, 8.31186417e-01,\n",
              "         6.13141901e-01, 5.47470649e-01],\n",
              "        [3.78022233e-02, 6.83755130e-01, 7.26927310e-01, 4.71363225e-01,\n",
              "         9.27827637e-01, 2.81818816e-01, 6.32311580e-01, 5.27163457e-01,\n",
              "         2.85512794e-01, 8.81799911e-01],\n",
              "        [5.77131722e-01, 5.52049923e-01, 2.31413595e-01, 7.95829405e-02,\n",
              "         3.00714922e-02, 3.29518392e-01, 3.12536529e-01, 2.26603359e-01,\n",
              "         7.49396912e-02, 6.38685042e-01],\n",
              "        [9.74532039e-01, 9.05467217e-03, 7.34399233e-01, 4.46915155e-01,\n",
              "         4.99718502e-01, 4.69234793e-01, 1.98948080e-02, 1.47408953e-01,\n",
              "         3.13267798e-01, 3.78329771e-01],\n",
              "        [2.43521186e-01, 5.85165865e-01, 5.23726263e-01, 9.38382137e-01,\n",
              "         8.50602117e-01, 7.94386574e-01, 3.79344329e-01, 3.18602761e-01,\n",
              "         3.37689721e-01, 7.21399063e-01],\n",
              "        [5.34522226e-01, 7.79093110e-01, 1.10178691e-01, 5.98485447e-01,\n",
              "         4.05116783e-01, 3.04977889e-02, 9.30030941e-01, 6.01075868e-01,\n",
              "         4.69676964e-01, 2.12150906e-01],\n",
              "        [6.67052242e-02, 6.09955618e-03, 9.79144343e-01, 3.48301425e-01,\n",
              "         9.24950206e-01, 4.47729392e-01, 9.74262491e-01, 3.36712331e-01,\n",
              "         9.52299387e-02, 9.70725419e-01],\n",
              "        [4.44345706e-01, 6.47692600e-01, 3.51924181e-03, 7.87313264e-01,\n",
              "         8.52454516e-01, 3.92392755e-01, 3.36318374e-01, 8.58931939e-01,\n",
              "         4.35151556e-01, 3.54542078e-02],\n",
              "        [9.99754663e-02, 7.24129182e-01, 5.96745309e-01, 9.97020569e-01,\n",
              "         1.04305445e-01, 9.55789174e-01, 5.30701010e-01, 6.25892015e-01,\n",
              "         8.86332435e-01, 3.20884379e-01],\n",
              "        [6.26131879e-01, 9.83394205e-01, 4.31498920e-03, 1.43667754e-01,\n",
              "         5.74666888e-01, 1.02431231e-01, 9.54065777e-01, 7.85823453e-01,\n",
              "         9.73439972e-01, 1.80172151e-01],\n",
              "        [5.50067531e-01, 9.30874579e-01, 3.57445601e-01, 1.17113046e-01,\n",
              "         9.61984988e-02, 6.00443222e-01, 7.81223095e-01, 8.94161318e-01,\n",
              "         6.62433680e-01, 1.23991270e-01],\n",
              "        [1.75059280e-01, 5.20816261e-01, 3.40183673e-01, 5.86485404e-01,\n",
              "         7.94180496e-01, 8.69370423e-01, 9.10416473e-01, 1.44658892e-01,\n",
              "         6.93612141e-01, 1.80832509e-01],\n",
              "        [5.55384298e-01, 9.86221948e-01, 4.15715061e-01, 8.47828984e-01,\n",
              "         2.08570901e-01, 2.85310352e-01, 9.31694990e-03, 5.90125716e-01,\n",
              "         5.15410202e-01, 5.55817058e-01],\n",
              "        [4.59290860e-01, 3.84474440e-01, 3.23265964e-01, 9.75176213e-01,\n",
              "         2.15124566e-01, 3.38518677e-01, 6.04780718e-01, 2.38538065e-01,\n",
              "         8.44997444e-01, 2.91496277e-01]]])"
            ]
          },
          "metadata": {},
          "execution_count": 39
        }
      ]
    },
    {
      "cell_type": "markdown",
      "metadata": {
        "id": "fAi2d6jkJ2hE"
      },
      "source": [
        "### Tensor product"
      ]
    },
    {
      "cell_type": "code",
      "execution_count": null,
      "metadata": {
        "id": "gE5KtWoQJ2hE"
      },
      "outputs": [],
      "source": [
        "x = np.random.random((32,))\n",
        "y = np.random.random((32,))\n",
        "z = np.dot(x, y)"
      ]
    },
    {
      "cell_type": "code",
      "execution_count": null,
      "metadata": {
        "id": "sZgaMXVUJ2hE"
      },
      "outputs": [],
      "source": [
        "def naive_vector_dot(x, y):\n",
        "    assert len(x.shape) == 1\n",
        "    assert len(y.shape) == 1\n",
        "    assert x.shape[0] == y.shape[0]\n",
        "    z = 0.\n",
        "    for i in range(x.shape[0]):\n",
        "        z += x[i] * y[i]\n",
        "    return z"
      ]
    },
    {
      "cell_type": "code",
      "execution_count": null,
      "metadata": {
        "id": "iX90Bh6-J2hF"
      },
      "outputs": [],
      "source": [
        "def naive_matrix_vector_dot(x, y):\n",
        "    assert len(x.shape) == 2\n",
        "    assert len(y.shape) == 1\n",
        "    assert x.shape[1] == y.shape[0]\n",
        "    z = np.zeros(x.shape[0])\n",
        "    for i in range(x.shape[0]):\n",
        "        for j in range(x.shape[1]):\n",
        "            z[i] += x[i, j] * y[j]\n",
        "    return z"
      ]
    },
    {
      "cell_type": "code",
      "execution_count": null,
      "metadata": {
        "id": "spgJgkk1J2hF"
      },
      "outputs": [],
      "source": [
        "def naive_matrix_vector_dot(x, y):\n",
        "    z = np.zeros(x.shape[0])\n",
        "    for i in range(x.shape[0]):\n",
        "        z[i] = naive_vector_dot(x[i, :], y)\n",
        "    return z"
      ]
    },
    {
      "cell_type": "code",
      "execution_count": null,
      "metadata": {
        "id": "LGokp12MJ2hF"
      },
      "outputs": [],
      "source": [
        "def naive_matrix_dot(x, y):\n",
        "    assert len(x.shape) == 2\n",
        "    assert len(y.shape) == 2\n",
        "    assert x.shape[1] == y.shape[0]\n",
        "    z = np.zeros((x.shape[0], y.shape[1]))\n",
        "    for i in range(x.shape[0]):\n",
        "        for j in range(y.shape[1]):\n",
        "            row_x = x[i, :]\n",
        "            column_y = y[:, j]\n",
        "            z[i, j] = naive_vector_dot(row_x, column_y)\n",
        "    return z"
      ]
    },
    {
      "cell_type": "markdown",
      "metadata": {
        "id": "-Nn93DUkJ2hF"
      },
      "source": [
        "### Tensor reshaping"
      ]
    },
    {
      "cell_type": "code",
      "execution_count": null,
      "metadata": {
        "id": "hutmAZgSJ2hF"
      },
      "outputs": [],
      "source": [
        "train_images = train_images.reshape((60000, 28 * 28))"
      ]
    },
    {
      "cell_type": "code",
      "execution_count": null,
      "metadata": {
        "id": "Bvy1RL7LJ2hF",
        "colab": {
          "base_uri": "https://localhost:8080/"
        },
        "outputId": "ef1670de-f500-4a1c-e5c5-983755bdfe91"
      },
      "outputs": [
        {
          "output_type": "execute_result",
          "data": {
            "text/plain": [
              "(3, 2)"
            ]
          },
          "metadata": {},
          "execution_count": 16
        }
      ],
      "source": [
        "x = np.array([[0., 1.],\n",
        "             [2., 3.],\n",
        "             [4., 5.]])\n",
        "x.shape"
      ]
    },
    {
      "cell_type": "code",
      "execution_count": null,
      "metadata": {
        "id": "iJro3J8BJ2hF",
        "colab": {
          "base_uri": "https://localhost:8080/"
        },
        "outputId": "d0d75368-1550-494e-e9e1-f83f290aa942"
      },
      "outputs": [
        {
          "output_type": "execute_result",
          "data": {
            "text/plain": [
              "array([[0.],\n",
              "       [1.],\n",
              "       [2.],\n",
              "       [3.],\n",
              "       [4.],\n",
              "       [5.]])"
            ]
          },
          "metadata": {},
          "execution_count": 17
        }
      ],
      "source": [
        "x = x.reshape((6, 1))\n",
        "x"
      ]
    },
    {
      "cell_type": "code",
      "execution_count": null,
      "metadata": {
        "id": "3JeXFTRhJ2hG"
      },
      "outputs": [],
      "source": [
        "x = np.zeros((300, 20))\n",
        "x = np.transpose(x)\n",
        "x.shape"
      ]
    },
    {
      "cell_type": "markdown",
      "metadata": {
        "id": "WA31HKoQJ2hG"
      },
      "source": [
        "### Geometric interpretation of tensor operations"
      ]
    },
    {
      "cell_type": "markdown",
      "metadata": {
        "id": "9NfKs1SEJ2hG"
      },
      "source": [
        "### A geometric interpretation of deep learning"
      ]
    },
    {
      "cell_type": "markdown",
      "metadata": {
        "id": "jxPV5ArjJ2hG"
      },
      "source": [
        "## The engine of neural networks: gradient-based optimization"
      ]
    },
    {
      "cell_type": "markdown",
      "metadata": {
        "id": "H85DeB3NJ2hG"
      },
      "source": [
        "### What's a derivative?"
      ]
    },
    {
      "cell_type": "markdown",
      "metadata": {
        "id": "qjAk3nRAJ2hG"
      },
      "source": [
        "### Derivative of a tensor operation: the gradient"
      ]
    },
    {
      "cell_type": "markdown",
      "metadata": {
        "id": "5G0noRJqJ2hG"
      },
      "source": [
        "### Stochastic gradient descent"
      ]
    },
    {
      "cell_type": "markdown",
      "metadata": {
        "id": "a959PK2CJ2hH"
      },
      "source": [
        "### Chaining derivatives: The Backpropagation algorithm"
      ]
    },
    {
      "cell_type": "markdown",
      "metadata": {
        "id": "qmrmcJQDJ2hH"
      },
      "source": [
        "#### The chain rule"
      ]
    },
    {
      "cell_type": "markdown",
      "metadata": {
        "id": "_2SwTAEOJ2hH"
      },
      "source": [
        "#### Automatic differentiation with computation graphs"
      ]
    },
    {
      "cell_type": "markdown",
      "metadata": {
        "id": "QivgIIdDJ2hH"
      },
      "source": [
        "#### The gradient tape in TensorFlow"
      ]
    },
    {
      "cell_type": "code",
      "execution_count": null,
      "metadata": {
        "id": "WgtKddyVJ2hH"
      },
      "outputs": [],
      "source": [
        "import tensorflow as tf\n",
        "x = tf.Variable(0.) # should be float type\n",
        "with tf.GradientTape() as tape:\n",
        "    y = 2 * x + 3\n",
        "grad_of_y_wrt_x = tape.gradient(y, x)"
      ]
    },
    {
      "cell_type": "code",
      "execution_count": null,
      "metadata": {
        "id": "hu-llYikJ2hH"
      },
      "outputs": [],
      "source": [
        "x = tf.Variable(tf.random.uniform((2, 2)))\n",
        "with tf.GradientTape() as tape:\n",
        "    y = 2 * x + 3\n",
        "grad_of_y_wrt_x = tape.gradient(y, x)"
      ]
    },
    {
      "cell_type": "code",
      "source": [
        "grad_of_y_wrt_x"
      ],
      "metadata": {
        "colab": {
          "base_uri": "https://localhost:8080/"
        },
        "id": "CT32W5-CQps9",
        "outputId": "b9c04319-e1dd-4f27-b560-0898949057fe"
      },
      "execution_count": null,
      "outputs": [
        {
          "output_type": "execute_result",
          "data": {
            "text/plain": [
              "<tf.Tensor: shape=(2, 2), dtype=float32, numpy=\n",
              "array([[2., 2.],\n",
              "       [2., 2.]], dtype=float32)>"
            ]
          },
          "metadata": {},
          "execution_count": 45
        }
      ]
    },
    {
      "cell_type": "code",
      "execution_count": null,
      "metadata": {
        "id": "8XTi40WXJ2hH"
      },
      "outputs": [],
      "source": [
        "W = tf.Variable(tf.random.uniform((2, 2)))\n",
        "b = tf.Variable(tf.zeros((2,)))\n",
        "x = tf.random.uniform((2, 2))\n",
        "with tf.GradientTape() as tape:\n",
        "    y = tf.matmul(x, W) + b\n",
        "grad_of_y_wrt_W_and_b = tape.gradient(y, [W, b])"
      ]
    },
    {
      "cell_type": "code",
      "source": [
        "# derivatives of f(X,y) = x^2y + xy + 3y\n",
        "x = tf.Variable(2.) # should be float type\n",
        "y = tf.Variable(1.) # should be float type\n",
        "\n",
        "with tf.GradientTape() as tape:\n",
        "    f = x*x*y + x*y + 3*y\n",
        "grad_of_f_wrt_xy = tape.gradient(f, [x,y])\n",
        "grad_of_f_wrt_xy"
      ],
      "metadata": {
        "colab": {
          "base_uri": "https://localhost:8080/"
        },
        "id": "I_nbaO9VQ2Gl",
        "outputId": "79876b02-d89c-4b0a-ddf4-53240300565b"
      },
      "execution_count": null,
      "outputs": [
        {
          "output_type": "execute_result",
          "data": {
            "text/plain": [
              "[<tf.Tensor: shape=(), dtype=float32, numpy=5.0>,\n",
              " <tf.Tensor: shape=(), dtype=float32, numpy=9.0>]"
            ]
          },
          "metadata": {},
          "execution_count": 54
        }
      ]
    },
    {
      "cell_type": "code",
      "source": [
        "x = tf.constant(np.array([1.,4.,3.]).reshape(1,3), dtype=tf.float32)\n",
        "W = tf.Variable(tf.random.uniform((3,2)), dtype=tf.float32)\n",
        "b = tf.Variable(tf.zeros((2,)), dtype=tf.float32)\n",
        "\n",
        "with tf.GradientTape() as tape:\n",
        "    y = tf.matmul(x, W) + b\n",
        "grad_of_y_wrt_W_and_b = tape.gradient(y, [W, b])\n",
        "grad_of_y_wrt_W_and_b"
      ],
      "metadata": {
        "colab": {
          "base_uri": "https://localhost:8080/"
        },
        "id": "guBFE7aeRker",
        "outputId": "fa3825fe-decf-4ac9-f61a-19e93e005136"
      },
      "execution_count": null,
      "outputs": [
        {
          "output_type": "execute_result",
          "data": {
            "text/plain": [
              "[<tf.Tensor: shape=(3, 2), dtype=float32, numpy=\n",
              " array([[1., 1.],\n",
              "        [4., 4.],\n",
              "        [3., 3.]], dtype=float32)>,\n",
              " <tf.Tensor: shape=(2,), dtype=float32, numpy=array([1., 1.], dtype=float32)>]"
            ]
          },
          "metadata": {},
          "execution_count": 56
        }
      ]
    },
    {
      "cell_type": "markdown",
      "metadata": {
        "id": "0IJ4zjz4J2hI"
      },
      "source": [
        "## Looking back at our first example"
      ]
    },
    {
      "cell_type": "code",
      "execution_count": null,
      "metadata": {
        "id": "AJEBpewPJ2hI"
      },
      "outputs": [],
      "source": [
        "(train_images, train_labels), (test_images, test_labels) = mnist.load_data()\n",
        "train_images = train_images.reshape((60000, 28 * 28))\n",
        "train_images = train_images.astype(\"float32\") / 255\n",
        "test_images = test_images.reshape((10000, 28 * 28))\n",
        "test_images = test_images.astype(\"float32\") / 255"
      ]
    },
    {
      "cell_type": "code",
      "execution_count": null,
      "metadata": {
        "id": "1CYvwVD6J2hI"
      },
      "outputs": [],
      "source": [
        "model = keras.Sequential([\n",
        "    layers.Dense(512, activation=\"relu\"),\n",
        "    layers.Dense(10, activation=\"softmax\")\n",
        "])"
      ]
    },
    {
      "cell_type": "code",
      "execution_count": null,
      "metadata": {
        "id": "my2cJWEbJ2hI"
      },
      "outputs": [],
      "source": [
        "model.compile(optimizer=\"rmsprop\",\n",
        "              loss=\"sparse_categorical_crossentropy\",\n",
        "              metrics=[\"accuracy\"])"
      ]
    },
    {
      "cell_type": "code",
      "execution_count": null,
      "metadata": {
        "id": "dLf1FJZ7J2hI"
      },
      "outputs": [],
      "source": [
        "model.fit(train_images, train_labels, epochs=5, batch_size=128)"
      ]
    },
    {
      "cell_type": "markdown",
      "metadata": {
        "id": "3OB8FjwNJ2hI"
      },
      "source": [
        "### Reimplementing our first example from scratch in TensorFlow"
      ]
    },
    {
      "cell_type": "markdown",
      "metadata": {
        "id": "bMDf61ctJ2hI"
      },
      "source": [
        "#### A simple Dense class"
      ]
    },
    {
      "cell_type": "code",
      "execution_count": null,
      "metadata": {
        "id": "Ti0lgtjdJ2hJ"
      },
      "outputs": [],
      "source": [
        "import tensorflow as tf\n",
        "\n",
        "class NaiveDense:\n",
        "    def __init__(self, input_size, output_size, activation):\n",
        "        self.activation = activation\n",
        "\n",
        "        w_shape = (input_size, output_size)\n",
        "        w_initial_value = tf.random.uniform(w_shape, minval=0, maxval=1e-1)\n",
        "        self.W = tf.Variable(w_initial_value)\n",
        "\n",
        "        b_shape = (output_size,)\n",
        "        b_initial_value = tf.zeros(b_shape)\n",
        "        self.b = tf.Variable(b_initial_value)\n",
        "\n",
        "    def __call__(self, inputs):\n",
        "        return self.activation(tf.matmul(inputs, self.W) + self.b)\n",
        "\n",
        "    @property\n",
        "    def weights(self):\n",
        "        return [self.W, self.b]"
      ]
    },
    {
      "cell_type": "markdown",
      "metadata": {
        "id": "PKeeZ8szJ2hJ"
      },
      "source": [
        "#### A simple Sequential class"
      ]
    },
    {
      "cell_type": "code",
      "execution_count": null,
      "metadata": {
        "id": "enkwpEWuJ2hJ"
      },
      "outputs": [],
      "source": [
        "class NaiveSequential:\n",
        "    def __init__(self, layers):\n",
        "        self.layers = layers\n",
        "\n",
        "    def __call__(self, inputs):\n",
        "        x = inputs\n",
        "        for layer in self.layers:\n",
        "           x = layer(x)\n",
        "        return x\n",
        "\n",
        "    @property\n",
        "    def weights(self):\n",
        "       weights = []\n",
        "       for layer in self.layers:\n",
        "           weights += layer.weights\n",
        "       return weights"
      ]
    },
    {
      "cell_type": "code",
      "execution_count": null,
      "metadata": {
        "id": "_Uh6XzVVJ2hJ"
      },
      "outputs": [],
      "source": [
        "model = NaiveSequential([\n",
        "    NaiveDense(input_size=28 * 28, output_size=512, activation=tf.nn.relu),\n",
        "    NaiveDense(input_size=512, output_size=10, activation=tf.nn.softmax)\n",
        "])\n",
        "assert len(model.weights) == 4"
      ]
    },
    {
      "cell_type": "markdown",
      "metadata": {
        "id": "DvpjlUQQJ2hJ"
      },
      "source": [
        "#### A batch generator"
      ]
    },
    {
      "cell_type": "code",
      "execution_count": null,
      "metadata": {
        "id": "Aaol4BY9J2hJ"
      },
      "outputs": [],
      "source": [
        "import math\n",
        "\n",
        "class BatchGenerator:\n",
        "    def __init__(self, images, labels, batch_size=128):\n",
        "        assert len(images) == len(labels)\n",
        "        self.index = 0\n",
        "        self.images = images\n",
        "        self.labels = labels\n",
        "        self.batch_size = batch_size\n",
        "        self.num_batches = math.ceil(len(images) / batch_size)\n",
        "\n",
        "    def next(self):\n",
        "        images = self.images[self.index : self.index + self.batch_size]\n",
        "        labels = self.labels[self.index : self.index + self.batch_size]\n",
        "        self.index += self.batch_size\n",
        "        return images, labels"
      ]
    },
    {
      "cell_type": "markdown",
      "metadata": {
        "id": "7Gufheh1J2hK"
      },
      "source": [
        "### Running one training step"
      ]
    },
    {
      "cell_type": "code",
      "execution_count": null,
      "metadata": {
        "id": "8qpAZHxWJ2hK"
      },
      "outputs": [],
      "source": [
        "def one_training_step(model, images_batch, labels_batch):\n",
        "    with tf.GradientTape() as tape:\n",
        "        predictions = model(images_batch)\n",
        "        per_sample_losses = tf.keras.losses.sparse_categorical_crossentropy(\n",
        "            labels_batch, predictions)\n",
        "        average_loss = tf.reduce_mean(per_sample_losses)\n",
        "    gradients = tape.gradient(average_loss, model.weights)\n",
        "    update_weights(gradients, model.weights)\n",
        "    return average_loss"
      ]
    },
    {
      "cell_type": "code",
      "execution_count": null,
      "metadata": {
        "id": "3cTVSrgtJ2hK"
      },
      "outputs": [],
      "source": [
        "learning_rate = 1e-3\n",
        "\n",
        "def update_weights(gradients, weights):\n",
        "    for g, w in zip(gradients, weights):\n",
        "        w.assign_sub(g * learning_rate)"
      ]
    },
    {
      "cell_type": "code",
      "execution_count": null,
      "metadata": {
        "id": "YcH_0bSnJ2hK"
      },
      "outputs": [],
      "source": [
        "from tensorflow.keras import optimizers\n",
        "\n",
        "optimizer = optimizers.SGD(learning_rate=1e-3)\n",
        "\n",
        "def update_weights(gradients, weights):\n",
        "    optimizer.apply_gradients(zip(gradients, weights))"
      ]
    },
    {
      "cell_type": "markdown",
      "metadata": {
        "id": "EpPpQfIOJ2hK"
      },
      "source": [
        "### The full training loop"
      ]
    },
    {
      "cell_type": "code",
      "execution_count": null,
      "metadata": {
        "id": "3N2qOdvuJ2hL"
      },
      "outputs": [],
      "source": [
        "def fit(model, images, labels, epochs, batch_size=128):\n",
        "    for epoch_counter in range(epochs):\n",
        "        print(f\"Epoch {epoch_counter}\")\n",
        "        batch_generator = BatchGenerator(images, labels)\n",
        "        for batch_counter in range(batch_generator.num_batches):\n",
        "            images_batch, labels_batch = batch_generator.next()\n",
        "            loss = one_training_step(model, images_batch, labels_batch)\n",
        "            if batch_counter % 100 == 0:\n",
        "                print(f\"loss at batch {batch_counter}: {loss:.2f}\")"
      ]
    },
    {
      "cell_type": "code",
      "execution_count": null,
      "metadata": {
        "id": "DsjDgjOvJ2hL"
      },
      "outputs": [],
      "source": [
        "from tensorflow.keras.datasets import mnist\n",
        "(train_images, train_labels), (test_images, test_labels) = mnist.load_data()\n",
        "\n",
        "train_images = train_images.reshape((60000, 28 * 28))\n",
        "train_images = train_images.astype(\"float32\") / 255\n",
        "test_images = test_images.reshape((10000, 28 * 28))\n",
        "test_images = test_images.astype(\"float32\") / 255\n",
        "\n",
        "fit(model, train_images, train_labels, epochs=10, batch_size=128)"
      ]
    },
    {
      "cell_type": "markdown",
      "metadata": {
        "id": "gVq-hBu3J2hL"
      },
      "source": [
        "### Evaluating the model"
      ]
    },
    {
      "cell_type": "code",
      "execution_count": null,
      "metadata": {
        "id": "j3aklo_jJ2hL"
      },
      "outputs": [],
      "source": [
        "predictions = model(test_images)\n",
        "predictions = predictions.numpy()\n",
        "predicted_labels = np.argmax(predictions, axis=1)\n",
        "matches = predicted_labels == test_labels\n",
        "print(f\"accuracy: {matches.mean():.2f}\")"
      ]
    },
    {
      "cell_type": "markdown",
      "metadata": {
        "id": "jHWW8sOqJ2hL"
      },
      "source": [
        "## Summary"
      ]
    }
  ],
  "metadata": {
    "colab": {
      "provenance": [],
      "gpuType": "T4",
      "include_colab_link": true
    },
    "kernelspec": {
      "display_name": "Python 3",
      "name": "python3"
    },
    "language_info": {
      "codemirror_mode": {
        "name": "ipython",
        "version": 3
      },
      "file_extension": ".py",
      "mimetype": "text/x-python",
      "name": "python",
      "nbconvert_exporter": "python",
      "pygments_lexer": "ipython3",
      "version": "3.7.0"
    },
    "accelerator": "GPU"
  },
  "nbformat": 4,
  "nbformat_minor": 0
}